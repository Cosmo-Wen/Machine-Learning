{
 "cells": [
  {
   "cell_type": "markdown",
   "metadata": {
    "id": "IagZMs0_qjdL"
   },
   "source": [
    "# 1. Introduction\n",
    "\n",
    "Welcome to your fourth assignment. In this assignment, you will build a convolutional neural network step by step. In this notebook, you will implement all the functions required to build a convolutional neural network.\n",
    "\n",
    "After finishing this assignment, you will have a deeper understanding of the process of training a convolutional neural network, which mainly consists of two parts: convolution layer and pooling layer."
   ]
  },
  {
   "cell_type": "markdown",
   "metadata": {
    "id": "yGFR00CQvoaH"
   },
   "source": [
    "# 2. Packages\n",
    "All the packages that you need to finish basic part of this assignment are listed below.\n",
    "*   numpy : The fundamental package for scientific computing with Python.\n",
    "*   matplotlib : A comprehensive library for creating static, animated, and interactive visualizations in Python.\n",
    "*   math : Python has a built-in module that you can use for mathematical tasks.\n",
    "*   pandas.read_csv : Provides functionality for reading a csv dataset from a GitHub repository.\n",
    "* sklearn.model_selection.train_test_split: A function helps you split train and test data.\n",
    "* os: A module provides the facility to establish the interaction between the user and the operating system. You can access the image directory by os.\n",
    "* cv2.imread: It is the module import name for opencv-python.\n",
    "* time: Provides various time-related functions.\n",
    "* google.colab.drive: Let you connect colab and your googol drive.\n",
    "* sys: Let you access system-specific parameters and functions.\n",
    "\n",
    "⚠️ **WARNING** ⚠️: \n",
    "*   Please do not import any other packages in basic part.\n",
    "*   np.random.seed(seed) is used to keep all the random function calls consistent. It will help us grade your work. Please don't change the seed.\n",
    "\n",
    "❗ **Important** ❗: Please do not change the code outside this code bracket.\n",
    "```\n",
    "### START CODE HERE ### (≈ n lines)\n",
    "...\n",
    "### END CODE HERE ###\n",
    "```\n",
    "\n"
   ]
  },
  {
   "cell_type": "code",
   "execution_count": 1,
   "metadata": {
    "id": "YcLLrIEc-4h6"
   },
   "outputs": [],
   "source": [
    "# from google.colab import drive\n",
    "# drive.mount('/content/drive')"
   ]
  },
  {
   "cell_type": "code",
   "execution_count": 2,
   "metadata": {
    "id": "_go37iU6-4k8"
   },
   "outputs": [],
   "source": [
    "import sys\n",
    "# sys.path.append(\"/content/drive/....\") ## the path of the directory where you place dense.py, activation.py ....\n",
    "sys.path.append(\"./\")"
   ]
  },
  {
   "cell_type": "code",
   "execution_count": 3,
   "metadata": {
    "id": "fmTH9UkeqdYf"
   },
   "outputs": [],
   "source": [
    "import os\n",
    "import math\n",
    "import time \n",
    "import numpy as np\n",
    "from cv2 import imread, IMREAD_GRAYSCALE # IMREAD_GRAYSCALE allow you to load the image as gray scale image\n",
    "from pandas import read_csv\n",
    "import matplotlib.pyplot as plt\n",
    "\n",
    "###### import your HW3 code (Don't change this part) ######\n",
    "from Dense import Dense\n",
    "from Activation import Activation\n",
    "from Loss import compute_BCE_cost\n",
    "from Predict import predict\n",
    "##################################\n",
    "\n",
    "output = {}\n",
    "seed = 1\n",
    "np.random.seed(seed)"
   ]
  },
  {
   "cell_type": "markdown",
   "metadata": {
    "id": "VMe4BNRPRQvF"
   },
   "source": [
    "# 3. Convolution layer\n",
    "\n",
    "In this section, you will need to implement a very important part of the convolutional neural network, which is the convolution layer. Convolution layer enables us to capture the important features of input images.\n",
    "\n",
    "You will have to implement two helper functions and the forward pass of the convolution layer. All you need to do is to follow the instructions and understand how each part works."
   ]
  },
  {
   "cell_type": "code",
   "execution_count": 4,
   "metadata": {
    "id": "ADlgENHVRQvG"
   },
   "outputs": [],
   "source": [
    "def zero_pad(X, pad):\n",
    "    \"\"\"\n",
    "    Pad with zeros all images of the dataset X. The padding is applied to the height and width of an image.\n",
    "    \n",
    "    Argument:\n",
    "    X -- python numpy array of shape (m, n_H, n_W, n_C), where m represent the number of examples.\n",
    "    pad -- integer, amount of padding around each image on vertical and horizontal dimensions\n",
    "    \n",
    "    Returns:\n",
    "    X_pad -- padded image of shape (m, n_H + 2*pad, n_W + 2*pad, n_C)\n",
    "    \"\"\"\n",
    "    \n",
    "    # GRADED FUNCTION: zero_padding\n",
    "    ### START CODE HERE ### (≈ 1 line)\n",
    "    X_pad = np.pad(X, ((0, 0), (pad, pad), (pad, pad), (0, 0)), \"constant\", constant_values = 0)\n",
    "    ### END CODE HERE ###\n",
    "    \n",
    "    return X_pad"
   ]
  },
  {
   "cell_type": "code",
   "execution_count": 5,
   "metadata": {
    "id": "nNerbFLTRQvG"
   },
   "outputs": [],
   "source": [
    "class Conv():\n",
    "    def __init__(self, filter_size=2, input_channel=3, output_channel=8, pad=1, stride=1, seed=1):\n",
    "        \n",
    "        self.filter_size= filter_size\n",
    "        self.input_channel=input_channel\n",
    "        self.output_channel=output_channel\n",
    "        self.seed = seed\n",
    "        \n",
    "        self.parameters = {\"pad\": pad, \"stride\": stride}\n",
    "        self.initialize_parameters()\n",
    "        \n",
    "        \n",
    "        self.name=\"conv\"\n",
    "\n",
    "    def initialize_parameters(self):\n",
    "        \"\"\"\n",
    "        Argument:\n",
    "        self.filter_size -- size of the filter\n",
    "        self.input_channel -- size of the input channel\n",
    "        self.output_channel -- size of the output channel\n",
    "        self.parameters -- python dictionary containing your parameters:\n",
    "                           W -- weight matrix of shape (filter_size, filter_size, input channel size, output channel size)\n",
    "                           b -- bias vector of shape (1, 1, 1, output channel size)\n",
    "                           pad -- amount of padding around each image on vertical and horizontal dimensions\n",
    "                           stride -- represent the amount of movement that a filter move in one step\n",
    "        \"\"\"\n",
    "        np.random.seed(seed)\n",
    "\n",
    "        # GRADED FUNCTION: conv_initialization\n",
    "        ### START CODE HERE ### (≈ 8 lines)\n",
    "        limit = math.sqrt(6 / (self.input_channel + self.output_channel))\n",
    "        W = np.random.uniform(-limit, limit, (self.filter_size,self.filter_size,self.input_channel,self.output_channel))\n",
    "        b = np.zeros((1, 1, 1, self.output_channel), float)\n",
    "        ### END CODE HERE ###\n",
    "\n",
    "        assert(W.shape == (self.filter_size,self.filter_size,self.input_channel,self.output_channel))\n",
    "        assert(b.shape == (1,1,1,self.output_channel))\n",
    "\n",
    "        self.parameters['W'] = W\n",
    "        self.parameters['b'] = b\n",
    "        \n",
    "    \n",
    "    \n",
    "    def conv_single_step(self, a_slice_prev, W, b):\n",
    "        \"\"\"\n",
    "        Apply a filter W on a_slice_prev.\n",
    "\n",
    "        Arguments:\n",
    "        a_slice_prev -- slice of input data of shape (filter_size, filter_size, n_C_prev)\n",
    "        W -- Weight parameters contained in a window - matrix of shape (filter_size, filter_size, n_C_prev)\n",
    "        b -- Bias parameters contained in a window - matrix of shape (1, 1, 1)\n",
    "\n",
    "        Returns:\n",
    "        Z -- a scalar value, result of convolving the sliding window (W, b) on a slice x of the input data\n",
    "        \"\"\"\n",
    "\n",
    "        # GRADED FUNCTION: conv_single_step\n",
    "        ### START CODE HERE ### (≈ 3 lines)\n",
    "        # Element-wise product between a_slice and W.\n",
    "        s = a_slice_prev * W\n",
    "        # Sum over all entries of the volume s.\n",
    "        Z = np.sum(s)\n",
    "        # Add bias b to Z. Cast b to a float() so that Z results in a scalar value.\n",
    "        Z = Z + float(b)\n",
    "        ### END CODE HERE ###\n",
    "\n",
    "        return Z\n",
    "    \n",
    "    def forward(self, A_prev):\n",
    "        \"\"\"\n",
    "        Implements the forward propagation for a convolution layer\n",
    "\n",
    "        Arguments:\n",
    "        A_prev -- output activations of the previous layer, numpy array of shape (m, n_H_prev, n_W_prev, n_C_prev)\n",
    "\n",
    "        Returns:\n",
    "        Z -- conv output, numpy array of shape (m, n_H, n_W, n_C)\n",
    "        \"\"\"\n",
    "\n",
    "        # GRADED FUNCTION: conv_forward\n",
    "        ### START CODE HERE ###\n",
    "        # Retrieve dimensions from A_prev's shape (≈1 line)  \n",
    "        (m, n_H_prev, n_W_prev, n_C_prev) = A_prev.shape\n",
    "\n",
    "        # Retrieve dimensions from W's shape (≈1 line)\n",
    "        (f, f, n_C_prev, n_C) = self.parameters['W'].shape\n",
    "\n",
    "\n",
    "        # Compute the dimensions of the convolution output volume using the formula given below.(≈2 lines)\n",
    "        n_H = int(np.floor((n_H_prev - f + 2 * self.parameters['pad']) / self.parameters['stride']) + 1)\n",
    "        n_W = int(np.floor((n_W_prev - f + 2 * self.parameters['pad']) / self.parameters['stride']) + 1)\n",
    "\n",
    "        # Initialize the output volume Z with zeros. (≈1 line)\n",
    "        Z = np.zeros((m, n_H, n_W, n_C))\n",
    "\n",
    "        # if pad!=0, create A_prev_pad by padding A_prev with the parameter \"pad\". (≈1 line)\n",
    "        A_prev_pad = zero_pad(A_prev, self.parameters['pad'])\n",
    "\n",
    "        for i in range(m):                               # loop over the batch of training examples\n",
    "            a_prev_pad = A_prev_pad[i,:,:,:]               # Select ith training example's padded activation\n",
    "            for h in range(n_H):                           # loop over vertical axis of the output volume\n",
    "                for w in range(n_W):                       # loop over horizontal axis of the output volume\n",
    "                    for c in range(n_C):                   # loop over channels (= #filter) of the output volume\n",
    "\n",
    "                        # Find the corners of the current \"slice\" (≈4 lines)\n",
    "                        vert_start = h * self.parameters['stride']\n",
    "                        vert_end = h * self.parameters['stride'] + f\n",
    "                        horiz_start = w * self.parameters['stride']\n",
    "                        horiz_end = w * self.parameters['stride'] + f\n",
    "\n",
    "                        # Use the corners to define the slice of a_prev_pad. (≈1 line)\n",
    "                        a_slice_prev = a_prev_pad[vert_start: vert_end, horiz_start: horiz_end, : ]\n",
    "\n",
    "                        # Convolve the (3D) slice with the correct filter W and bias b, to get back one output neuron. (≈1 line)\n",
    "                        Z[i, h, w, c] = self.conv_single_step(a_slice_prev, self.parameters['W'][: , : , : , c], self.parameters['b'][: , : , : , c])\n",
    "\n",
    "        ### END CODE HERE ###\n",
    "\n",
    "        # Making sure your output shape is correct\n",
    "        assert(Z.shape == (m, n_H, n_W, n_C))\n",
    "\n",
    "        # Save information in \"cache\" for the backward pass\n",
    "        self.cache = A_prev\n",
    "\n",
    "        return Z\n",
    "    \n",
    "    def backward(self, dZ):\n",
    "        \"\"\"\n",
    "        Implement the backward propagation for a convolution layer\n",
    "\n",
    "        Arguments:\n",
    "        dZ -- gradient of the cost with respect to the output of the conv layer (Z), numpy array of shape (m, n_H, n_W, n_C)\n",
    "\n",
    "        Returns:\n",
    "        dA_prev -- gradient of the cost with respect to the input of the conv layer (A_prev),\n",
    "                   numpy array of shape (m, n_H_prev, n_W_prev, n_C_prev)\n",
    "        \"\"\"\n",
    "\n",
    "\n",
    "        A_prev = self.cache\n",
    "\n",
    "        # Retrieve dimensions from A_prev's shape\n",
    "        (m, n_H_prev, n_W_prev, n_C_prev) = A_prev.shape\n",
    "\n",
    "        # Retrieve dimensions from W's shape\n",
    "        (f, f, n_C_prev, n_C) = self.parameters[\"W\"].shape\n",
    "\n",
    "\n",
    "        # Retrieve dimensions from dZ's shape\n",
    "        (m, n_H, n_W, n_C) = dZ.shape\n",
    "\n",
    "        # Initialize dA_prev, dW, db with the correct shapes\n",
    "        dA_prev = np.zeros((m, n_H_prev, n_W_prev, n_C_prev))                           \n",
    "        dW = np.zeros((f, f, n_C_prev, n_C))\n",
    "        db = np.zeros((1, 1, 1, n_C))\n",
    "\n",
    "        # Pad A_prev and dA_prev\n",
    "        A_prev_pad = zero_pad(A_prev, self.parameters[\"pad\"])\n",
    "        dA_prev_pad = zero_pad(dA_prev, self.parameters[\"pad\"])\n",
    "\n",
    "        for i in range(m):                       # loop over the training examples\n",
    "\n",
    "            # select ith training example from A_prev_pad and dA_prev_pad\n",
    "            a_prev_pad = A_prev_pad[i]\n",
    "            da_prev_pad = dA_prev_pad[i]\n",
    "\n",
    "            for h in range(n_H):                   # loop over vertical axis of the output volume\n",
    "                for w in range(n_W):               # loop over horizontal axis of the output volume\n",
    "                    for c in range(n_C):           # loop over the channels of the output volume\n",
    "\n",
    "                        # Find the corners of the current \"slice\"\n",
    "                        vert_start = h * self.parameters[\"stride\"]\n",
    "                        vert_end = vert_start + f\n",
    "                        horiz_start = w * self.parameters[\"stride\"]\n",
    "                        horiz_end = horiz_start + f\n",
    "\n",
    "                        # Use the corners to define the slice from a_prev_pad\n",
    "                        a_slice = a_prev_pad[vert_start:vert_end, horiz_start:horiz_end, :]\n",
    "\n",
    "                        # Update gradients for the window and the filter's parameters\n",
    "                        da_prev_pad[vert_start:vert_end, horiz_start:horiz_end, :] += self.parameters[\"W\"][:,:,:,c] * dZ[i, h, w, c]\n",
    "                        dW[:,:,:,c] += a_slice * dZ[i, h, w, c]\n",
    "                        db[:,:,:,c] += dZ[i, h, w, c]\n",
    "\n",
    "            # Set the ith training example's dA_prev to the unpaded da_prev_pad\n",
    "            dA_prev[i, :, :, :] = da_prev_pad[self.parameters[\"pad\"]:da_prev_pad.shape[0]-self.parameters[\"pad\"], \n",
    "                                              self.parameters[\"pad\"]:da_prev_pad.shape[1]-self.parameters[\"pad\"], :]\n",
    "\n",
    "        assert(dA_prev.shape == (m, n_H_prev, n_W_prev, n_C_prev))\n",
    "\n",
    "        self.dW = dW\n",
    "        self.db = db\n",
    "\n",
    "        return dA_prev\n",
    "    \n",
    "    def update(self, learning_rate):\n",
    "        \"\"\"\n",
    "        Update parameters using gradient descent\n",
    "        \n",
    "        Arguments:\n",
    "        learning rate -- step size\n",
    "        \"\"\"\n",
    "\n",
    "        # GRADED FUNCTION: conv_update\n",
    "        ### START CODE HERE ### (≈ 2 lines of code)\n",
    "        self.parameters[\"W\"] = self.parameters[\"W\"] - learning_rate * self.dW\n",
    "        self.parameters[\"b\"] = self.parameters[\"b\"] - learning_rate * self.db\n",
    "        ### END CODE HERE ###"
   ]
  },
  {
   "cell_type": "markdown",
   "metadata": {
    "id": "3Q_4VjV5W_gL"
   },
   "source": [
    "## 3.1 initialization\n",
    "Using Glorot uniform initialization to initialize the convolution layer's filters with the parameters: filter_size, input_channel, and output_channel.\n",
    "\n",
    "*   Use random initialization (uniform distribution) for the weight matrices. Draws samples from a uniform distribution within [-limit, limit], where limit = sqrt(6 / (fan_in + fan_out)), fan_in is the **number of input channel** and fan_out is the **number of output channel**. However, in the usual implementation, we will consider fan_in and fan_out as the number of input units and the number of output units.\n",
    "*   Use zero initialization for the biases.\n",
    "\n",
    "Exercise: Create and initialize parameters of a convolution layer using Glorot uniform initialization. (1%)\n",
    "\n",
    "It will take following parameters to initialize the convolution layer:\n",
    "*   filter_size: The filter will be in the shape of (filter_size*filter_size)\n",
    "*   input_channel: size of the input channel\n",
    "*   output_channel: size of the output channel\n",
    "*   pad: amount of padding around each image on vertical and horizontal dimensions\n",
    "*   stride: represent the amount of movement that a filter move in one step"
   ]
  },
  {
   "cell_type": "code",
   "execution_count": 6,
   "metadata": {
    "id": "McQisK1WW-4t"
   },
   "outputs": [
    {
     "name": "stdout",
     "output_type": "stream",
     "text": [
      "W[0][0][0] =  [-0.12256662  0.32544084 -0.73838    -0.29197414 -0.52177613 -0.6021558\n",
      " -0.46342438 -0.22812192]\n",
      "b =  [[[[0. 0. 0. 0. 0. 0. 0. 0.]]]]\n"
     ]
    }
   ],
   "source": [
    "np.random.seed(seed)\n",
    "conv = Conv(filter_size=2, input_channel=3, output_channel=8, pad=2, stride=2)\n",
    "print(\"W[0][0][0] = \",  conv.parameters[\"W\"][0][0][0])\n",
    "print(\"b = \", conv.parameters[\"b\"])\n",
    "\n",
    "np.random.seed(seed)\n",
    "conv = Conv(filter_size=2, input_channel=3, output_channel=16, pad=2, stride=2)\n",
    "output[\"conv_initialization\"] = conv.parameters[\"W\"][0][0][0]"
   ]
  },
  {
   "cell_type": "markdown",
   "metadata": {
    "id": "t50bsMBRTrP6"
   },
   "source": [
    "Expected output: \n",
    "<table>\n",
    "  <tr>\n",
    "    <td>W[0][0][0]: </td>\n",
    "    <td>[-0.12256662  0.32544084 -0.73838    -0.29197414 -0.52177613 -0.6021558 -0.46342438 -0.22812192]</td>\n",
    "  </tr>\n",
    "  <tr>\n",
    "    <td>b: </td>\n",
    "    <td>[[[[0. 0. 0. 0. 0. 0. 0. 0.]]]]</td>\n",
    "  </tr>\n",
    "</table>"
   ]
  },
  {
   "cell_type": "markdown",
   "metadata": {
    "id": "OAHuFnmDIhgY"
   },
   "source": [
    "## 3.2  Zero-Padding\n",
    "\n",
    "Pad around each image on vertical and horizontal dimensions with zero.\n",
    "\n",
    "1. It allows you to use a convolution layer without necessarily shrinking the height and width of the volumes. This is important for building deeper networks since otherwise the height/width would shrink as you go to deeper layers. \n",
    "2. It helps us keep more of the information at the border of an image. Without padding, very few values at the next layer would be affected by pixels as the edges of an image.\n",
    "\n",
    "**Exercise**: Implement the zero_pad() function to pad the input X with the given parameter \"pad\". (3%)\n",
    "\n",
    "This function takes the following inputs:\n",
    "*   X: input.\n",
    "*   pad: amount of padding around each image on vertical and horizontal dimensions."
   ]
  },
  {
   "cell_type": "code",
   "execution_count": 7,
   "metadata": {
    "id": "h9xGiJH5IgyJ"
   },
   "outputs": [
    {
     "name": "stdout",
     "output_type": "stream",
     "text": [
      "x.shape =\n",
      " (4, 3, 3, 2)\n",
      "x_pad.shape =\n",
      " (4, 7, 7, 2)\n",
      "x[0,2,:,0] =\n",
      " [-0.3224172   1.13376944 -0.17242821]\n",
      "x_pad[0,2,:,0] =\n",
      " [ 0.          0.          1.62434536 -0.52817175  0.86540763  0.\n",
      "  0.        ]\n"
     ]
    },
    {
     "data": {
      "image/png": "[encoded data removed]",
      "text/plain": [
       "<Figure size 640x480 with 2 Axes>"
      ]
     },
     "metadata": {},
     "output_type": "display_data"
    }
   ],
   "source": [
    "np.random.seed(seed)\n",
    "x = np.random.randn(4, 3, 3, 2)\n",
    "x_pad = zero_pad(x, 2)\n",
    "print (\"x.shape =\\n\", x.shape)\n",
    "print (\"x_pad.shape =\\n\", x_pad.shape)\n",
    "print (\"x[0,2,:,0] =\\n\", x[0,2,:,0])\n",
    "print (\"x_pad[0,2,:,0] =\\n\", x_pad[0,2,:,0])\n",
    "\n",
    "fig, axarr = plt.subplots(1, 2)\n",
    "axarr[0].set_title('x')\n",
    "axarr[0].imshow(x[0,:,:,0])\n",
    "axarr[1].set_title('x_pad')\n",
    "axarr[1].imshow(x_pad[0,:,:,0])\n",
    "\n",
    "np.random.seed(seed)\n",
    "x = np.random.randn(4, 2, 2, 2)\n",
    "x_pad = zero_pad(x, 1)\n",
    "output[\"zero_padding\"] = x_pad[0,1,:,0]"
   ]
  },
  {
   "cell_type": "markdown",
   "metadata": {
    "id": "snXOn3sETwDb"
   },
   "source": [
    "Expected output: \n",
    "<table>\n",
    "  <tr>\n",
    "    <td>x.shape: </td>\n",
    "    <td>(4, 3, 3, 2)</td>\n",
    "  </tr>\n",
    "  <tr>\n",
    "    <td>x_pad.shape: </td>\n",
    "    <td>(4, 7, 7, 2)</td>\n",
    "  </tr>\n",
    "  <tr>\n",
    "    <td>x[0,2,:,0]: </td>\n",
    "    <td>[-0.3224172   1.13376944 -0.17242821]</td>\n",
    "  </tr>\n",
    "  <tr>\n",
    "    <td>x_pad[0,2,:,0]: </td>\n",
    "    <td>[ 0. 0. 1.62434536 -0.52817175 0.86540763 0. 0.]\n",
    "</td>\n",
    "  </tr>\n",
    "</table>"
   ]
  },
  {
   "cell_type": "markdown",
   "metadata": {
    "id": "GPVifontJlWr"
   },
   "source": [
    "## 3.3 Convolution_single_step\n",
    "In this part, you will implement a single step of convolution, in which you apply the filter to a single position of the input. This will be used to build a convolutional unit.\n",
    "\n",
    "We will convolve an f*f filter with the image by multiplying its values element-wise with the original matrix, then summing them up and adding a bias.\n",
    "\n",
    "**Exercise**: Implement conv_single_step( ). (5%)\n",
    "\n",
    "This function takes the following inputs:\n",
    "*   a_slice_prev: the output of the activation by the previous layer.\n",
    "*   W: the filter with size f*f.\n",
    "*   b: the bias.\n"
   ]
  },
  {
   "cell_type": "code",
   "execution_count": 8,
   "metadata": {
    "id": "02WmPxJKJbJa"
   },
   "outputs": [
    {
     "name": "stdout",
     "output_type": "stream",
     "text": [
      "Z = -6.999089450680221\n"
     ]
    }
   ],
   "source": [
    "np.random.seed(seed)\n",
    "a_slice_prev = np.random.randn(4, 4, 3)\n",
    "W = np.random.randn(4, 4, 3)\n",
    "b = np.random.randn(1, 1, 1)\n",
    "\n",
    "conv = Conv(filter_size=2, input_channel=3, output_channel=8, pad=2, stride=2)\n",
    "Z = conv.conv_single_step(a_slice_prev, W, b)\n",
    "print(\"Z =\", Z)\n",
    "\n",
    "np.random.seed(seed)\n",
    "a_slice_prev = np.random.randn(3, 3, 3)\n",
    "W = np.random.randn(3, 3, 3)\n",
    "b = np.random.randn(1, 1, 1)\n",
    "conv = Conv()\n",
    "Z = conv.conv_single_step(a_slice_prev, W, b)\n",
    "output[\"conv_single_step\"] = Z"
   ]
  },
  {
   "cell_type": "markdown",
   "metadata": {
    "id": "SVHY5VIFVLiC"
   },
   "source": [
    "Expected output: \n",
    "<table>\n",
    "  <tr>\n",
    "    <td>Z: </td>\n",
    "    <td>-6.999089450680221</td>\n",
    "  </tr>\n",
    "</table>"
   ]
  },
  {
   "cell_type": "markdown",
   "metadata": {
    "id": "764-uaZwLGNL"
   },
   "source": [
    "## 3.4 Forward pass\n",
    "In the forward pass, you will take many filters and convolve them through the input. Each 'convolution' gives you a 2D matrix output. You will then stack these outputs to get a 3D volume.\n",
    "\n",
    "Notice that the output shape of the convolution forward will be (H, W, C).\n",
    "* $H= \\lfloor\\frac{H_{prev }-f+2*pad}{stride}\\rfloor+1$\n",
    "* $W= \\lfloor\\frac{W_{prev }-f+2*pad}{stride}\\rfloor+1$\n",
    "* $C = $ number of filters\n",
    "\n",
    "f = filter_size\n",
    "\n",
    "**Exercise**: Implement forward( ) to convolve the filters W on an input activation A_prev. (15%)\n",
    "\n",
    "This function takes the following input:\n",
    "*   A_prev: the output of the activation by the previous layer, it's an array with shape (m, H_prev, W_prev, C_prev).\n",
    "    *  m: number of examples.\n",
    "    *  H_prev, W_prev, C_prev: the height, width, and channel of the output of the previous layer.\n",
    "\n",
    "Here are some steps for you to finish this exercise:\n",
    "1. Define **a_slice_prev**, which represent the input slice of conv_single_step( ).\n",
    "2. To define **a_slice_prev**, you have to define its' corners: **vert_start, vert_end, horiz_start and horiz_end**."
   ]
  },
  {
   "cell_type": "code",
   "execution_count": 9,
   "metadata": {
    "id": "6Ags0LKKRQvH"
   },
   "outputs": [
    {
     "name": "stdout",
     "output_type": "stream",
     "text": [
      "Z's mean = 0.0031904169881830785\n",
      "Z[3,2,1] = [ 1.32947002  2.12083471  0.37853495 -3.53602735  1.38816885 -1.01503137\n",
      " -1.01667531  0.86993377]\n",
      "cache_conv[1][2][3] = [-0.20075807  0.18656139  0.41005165]\n"
     ]
    }
   ],
   "source": [
    "np.random.seed(seed)\n",
    "A_prev = np.random.randn(10,4,4,3)\n",
    "conv=Conv(filter_size=2, input_channel=3, output_channel=8, pad=2, stride=2)\n",
    "Z = conv.forward(A_prev)\n",
    "\n",
    "print(\"Z's mean =\", np.mean(Z))\n",
    "print(\"Z[3,2,1] =\", Z[3,2,1])\n",
    "print(\"cache_conv[1][2][3] =\", conv.cache[1][2][3])\n",
    "\n",
    "\n",
    "np.random.seed(seed)\n",
    "A_prev = np.random.randn(10,3,3,3)\n",
    "conv=Conv(filter_size=3, input_channel=3, output_channel=16, pad=1, stride=1)\n",
    "Z = conv.forward(A_prev)\n",
    "\n",
    "output[\"conv_forward_1\"] = np.mean(Z)\n",
    "output[\"conv_forward_2\"] = Z[3,2,1]\n",
    "output[\"conv_forward_3\"] = conv.cache[1][2][2]"
   ]
  },
  {
   "cell_type": "markdown",
   "metadata": {
    "id": "5qiBeJbhVTlU"
   },
   "source": [
    "Expected output: \n",
    "<table>\n",
    "  <tr>\n",
    "    <td>Z's mean: </td>\n",
    "    <td>0.0031904169881830785</td>\n",
    "  </tr>\n",
    "  <tr>\n",
    "    <td>Z[3,2,1]: </td>\n",
    "    <td>[ 1.32947002  2.12083471  0.37853495 -3.53602735  1.38816885 -1.01503137\n",
    " -1.01667531  0.86993377]</td>\n",
    "  </tr>\n",
    "  <tr>\n",
    "    <td>cache_conv[1][2][3]: </td>\n",
    "    <td>[-0.20075807  0.18656139  0.41005165]</td>\n",
    "  </tr>\n",
    "</table>"
   ]
  },
  {
   "cell_type": "markdown",
   "metadata": {
    "id": "bbGLz2F_ReRr"
   },
   "source": [
    "## 3.5 Update parameters\n",
    "In this section you will update the parameters of the convolution layer, using gradient descent:\n",
    "\n",
    "$$ W^{[l]} = W^{[l]} - \\alpha \\text{ } dW^{[l]} $$$$ b^{[l]} = b^{[l]} - \\alpha \\text{ } db^{[l]} $$\n",
    "\n",
    "**Exercise**: Implement update( ) to update your parameters using gradient descent. (1%)\n",
    "\n",
    "**Instructions**: \n",
    "*   Update parameters using gradient descent on $W^{[l]}$ and $b^{[l]}$.\n"
   ]
  },
  {
   "cell_type": "code",
   "execution_count": 10,
   "metadata": {
    "id": "QOw8N6q7RgGU"
   },
   "outputs": [
    {
     "name": "stdout",
     "output_type": "stream",
     "text": [
      "W[0][0][0] =  [-1.74691199  0.93719726 -0.21020825  0.78099448 -1.38718376  1.69938289\n",
      " -2.20823614  0.53308498]\n",
      "b =  [[[[ 0.34385368 -0.04359686  0.62000084 -0.69803203  0.44712856\n",
      "    -1.2245077  -0.40349164 -0.59357852]]]]\n"
     ]
    }
   ],
   "source": [
    "conv=Conv(filter_size=2, input_channel=3, output_channel=8, pad=2, stride=2)\n",
    "np.random.seed(seed)\n",
    "conv.dW = np.random.randn(2, 2, 3, 8)\n",
    "conv.db = np.random.randn(1, 1, 1, 8)\n",
    "conv.update(1.0)\n",
    "print(\"W[0][0][0] = \", conv.parameters[\"W\"][0][0][0])\n",
    "print(\"b = \", conv.parameters[\"b\"])\n",
    "\n",
    "conv=Conv(filter_size=3, input_channel=3, output_channel=8, pad=1, stride=2)\n",
    "np.random.seed(seed)\n",
    "conv.dW = np.random.randn(3, 3, 3, 8)\n",
    "conv.db = np.random.randn(1, 1, 1, 8)\n",
    "conv.update(0.1)\n",
    "output[\"conv_update_1\"] = conv.parameters[\"W\"][0][0][0]\n",
    "output[\"conv_update_2\"] = conv.parameters[\"b\"]\n"
   ]
  },
  {
   "cell_type": "markdown",
   "metadata": {
    "id": "3WBrdsS9RsTA"
   },
   "source": [
    "Expected output: \n",
    "<table>\n",
    "  <tr>\n",
    "    <td>W[0][0][0]: </td>\n",
    "    <td>[-1.74691199  0.93719726 -0.21020825  0.78099448 -1.38718376  1.69938289 -2.20823614  0.53308498]</td>\n",
    "  </tr>\n",
    "  <tr>\n",
    "    <td>b: </td>\n",
    "    <td>[[[[ 0.34385368 -0.04359686  0.62000084 -0.69803203  0.44712856\n",
    "    -1.2245077  -0.40349164 -0.59357852]]]]</td>\n",
    "  </tr>\n",
    "</table>"
   ]
  },
  {
   "cell_type": "markdown",
   "metadata": {
    "id": "goYhkmioRQvI"
   },
   "source": [
    "# 4. Maxpooling layer\n",
    "\n",
    "The pooling layer reduces the size (height and width) of the input. It helps reduce computation, as well as helps make feature detectors more invariant to their position in the input. In this section, we will focus on maxpooling layer."
   ]
  },
  {
   "cell_type": "code",
   "execution_count": 11,
   "metadata": {
    "id": "Z8j9VErNRQvI"
   },
   "outputs": [],
   "source": [
    "class MaxPool():\n",
    "    def __init__(self, filter_size=2, stride=2):\n",
    "        \"\"\"\n",
    "        Argument:\n",
    "        self.parameters -- python dictionary containing your parameters:\n",
    "                           f -- size of a filter\n",
    "                           stride -- the amount of movement that a filter move in one step\n",
    "        \"\"\"\n",
    "    \n",
    "        self.parameters = {\"f\": filter_size, \"stride\": stride}\n",
    "        self.name=\"maxpool\"\n",
    "        \n",
    "        \n",
    "    def forward(self, A_prev):\n",
    "        \"\"\"\n",
    "        Implements the forward pass of the max pooling layer\n",
    "\n",
    "        Arguments:\n",
    "        A_prev -- Input data, numpy array of shape (m, n_H_prev, n_W_prev, n_C_prev)\n",
    "\n",
    "        Returns:\n",
    "        A -- output of the pool layer, a numpy array of shape (m, n_H, n_W, n_C)\n",
    "        \"\"\"\n",
    "\n",
    "        # GRADED FUNCTION: maxpool_forward\n",
    "        ### START CODE HERE ###\n",
    "        # Retrieve dimensions from the input shape. (≈1 line)\n",
    "        (m, n_H_prev, n_W_prev, n_C_prev) = A_prev.shape\n",
    "\n",
    "\n",
    "        # Define the dimensions of the output. (≈3 lines)\n",
    "        n_H = int(np.floor((n_H_prev - self.parameters['f']) / self.parameters['stride']) + 1)\n",
    "        n_W = int(np.floor((n_W_prev - self.parameters['f']) / self.parameters['stride']) + 1)\n",
    "        n_C = n_C_prev\n",
    "\n",
    "        # Initialize output matrix A with zeros. (≈1 line)\n",
    "        A = np.zeros((m, n_H, n_W, n_C))            \n",
    "\n",
    "        for i in range(m):                         # loop over the training examples\n",
    "            for h in range(n_H):                     # loop on the vertical axis of the output volume\n",
    "                for w in range(n_W):                 # loop on the horizontal axis of the output volume\n",
    "                    for c in range (n_C):            # loop over the channels of the output volume\n",
    "\n",
    "                        # Find the corners of the current \"slice\". (≈4 lines)\n",
    "                        vert_start = h * self.parameters[\"stride\"]\n",
    "                        vert_end = vert_start + self.parameters['f']\n",
    "                        horiz_start = w * self.parameters[\"stride\"]\n",
    "                        horiz_end = horiz_start + self.parameters['f']\n",
    "\n",
    "                        # Use the corners to define the current slice on the ith training example of A_prev, channel c. (≈1 line)\n",
    "                        a_prev_slice = A_prev[i, vert_start: vert_end, horiz_start: horiz_end, : ]\n",
    "\n",
    "                        # Compute the max pooling operation on a_prev_slice. (≈1 line)\n",
    "                        A[i, h, w, c] = np.max(a_prev_slice[: , : , c])\n",
    "\n",
    "        ### END CODE HERE ###\n",
    "\n",
    "        # Store the input in \"cache\" for backward pass\n",
    "        self.cache = A_prev\n",
    "\n",
    "        # Making sure your output shape is correct\n",
    "        assert(A.shape == (m, n_H, n_W, n_C))\n",
    "\n",
    "        return A\n",
    "    \n",
    "    def create_mask_from_window(self, x):\n",
    "        \"\"\"\n",
    "        Creates a mask from an input x to identify the max entry of x.\n",
    "\n",
    "        Arguments:\n",
    "        x -- Array of shape (filter_size, filter_size)\n",
    "\n",
    "        Returns:\n",
    "        mask -- Array of the same shape as filter, contains a True at the position corresponding to the max entry of x.\n",
    "        \"\"\"\n",
    "\n",
    "        mask = x == np.max(x)\n",
    "\n",
    "        return mask\n",
    "    \n",
    "    def backward(self, dA):\n",
    "        \"\"\"\n",
    "        Implements the backward pass of the max pooling layer\n",
    "\n",
    "        Arguments:\n",
    "        dA -- gradient of cost with respect to the output of the pooling layer, same shape as A \n",
    "\n",
    "        Returns:\n",
    "        dA_prev -- gradient of cost with respect to the input of the pooling layer, same shape as A_prev\n",
    "        \"\"\"\n",
    "\n",
    "        # Retrieve information from cache\n",
    "        A_prev = self.cache\n",
    "\n",
    "        # Retrieve dimensions from A_prev's shape and dA's shape\n",
    "        m, n_H_prev, n_W_prev, n_C_prev = A_prev.shape\n",
    "        m, n_H, n_W, n_C = dA.shape\n",
    "\n",
    "        # Initialize dA_prev with zeros\n",
    "        dA_prev = np.zeros(A_prev.shape)\n",
    "\n",
    "        for i in range(m):  # loop over the training examples\n",
    "            # select training example from A_prev                    \n",
    "            a_prev = A_prev[i]\n",
    "            for h in range(n_H):   # loop on the vertical axis            \n",
    "                for w in range(n_W):  # loop on the horizontal axis             \n",
    "                    for c in range(n_C): # loop over the channels\n",
    "\n",
    "                        # Find the corners of the current \"slice\"          \n",
    "                        vert_start = h * self.parameters[\"stride\"]\n",
    "                        vert_end = vert_start + self.parameters[\"f\"]\n",
    "                        horiz_start = w * self.parameters[\"stride\"]\n",
    "                        horiz_end = horiz_start + self.parameters[\"f\"] \n",
    "\n",
    "                        #Use the corners and \"c\" to define the current slice from a_prev\n",
    "                        a_prev_slice = a_prev[vert_start:vert_end, horiz_start:horiz_end, c]\n",
    "                        # Create the mask from a_prev_slice\n",
    "                        mask = self.create_mask_from_window(a_prev_slice)\n",
    "                        # Set dA_prev to be dA_prev + (the mask multiplied by the correct entry of dA)\n",
    "                        dA_prev[i, vert_start:vert_end, horiz_start:horiz_end, c] += np.multiply(mask, dA[i, h, w, c])\n",
    "\n",
    "\n",
    "\n",
    "        # Make sure your output shape is correct\n",
    "        assert(dA_prev.shape == A_prev.shape)\n",
    "\n",
    "        return dA_prev\n",
    "\n"
   ]
  },
  {
   "cell_type": "markdown",
   "metadata": {
    "id": "YXSF-PhOxauK"
   },
   "source": [
    "## 4.1 Forward pass\n",
    "\n",
    "It will take following parameters to initialize a max pooling layer:\n",
    "*   filter_size: the filter will be in the shape of (filter_size*filter_size)\n",
    "*   stride: the amount of movement that a filter move in one step\n",
    "\n",
    "In the forward pass, you will slide a ( f*f ) filter over the input and store the max value of the window in the output. (f means the filter size)\n",
    "\n",
    "Notice that the output shape of the forward pass will be (H, W, C).\n",
    "* $H= \\lfloor\\frac{H_{prev }-f}{stride}\\rfloor+1$\n",
    "* $W= \\lfloor\\frac{W_{prev }-f}{stride}\\rfloor+1$\n",
    "* $C = C_{prev}$\n",
    "\n",
    "**Exercise**: Create a max pooling layer and implement the forward pass of the pooling layer. (15%)\n",
    "\n",
    "This forward function takes the following input:\n",
    "*   A_prev: the output of the previous layer, it's an array with shape (m, H_prev, W_prev, C_prev).\n",
    "\n",
    "\n",
    "\n",
    "\n"
   ]
  },
  {
   "cell_type": "code",
   "execution_count": 12,
   "metadata": {
    "id": "BpL0HQvQRQvJ"
   },
   "outputs": [
    {
     "name": "stdout",
     "output_type": "stream",
     "text": [
      "A = [[[[1.74481176 0.86540763 1.13376944]]]\n",
      "\n",
      "\n",
      " [[[1.13162939 1.51981682 2.18557541]]]]\n"
     ]
    }
   ],
   "source": [
    "np.random.seed(seed)\n",
    "A_prev = np.random.randn(2, 4, 4, 3)\n",
    "maxpool=MaxPool(filter_size=3, stride=2)\n",
    "A = maxpool.forward(A_prev)\n",
    "print(\"A =\", A)\n",
    "\n",
    "A_prev = np.random.randn(2, 5, 5, 3)\n",
    "maxpool=MaxPool(filter_size=2, stride=1)\n",
    "A = maxpool.forward(A_prev)\n",
    "output[\"maxpool_forward\"] = A"
   ]
  },
  {
   "cell_type": "markdown",
   "metadata": {
    "id": "9vcEzFinVYHP"
   },
   "source": [
    "Expected output: \n",
    "<table>\n",
    "  <tr>\n",
    "    <td>A: </td>\n",
    "    <td>[[[[1.74481176 0.86540763 1.13376944]]] [[[1.13162939 1.51981682 2.18557541]]]]</td>\n",
    "  </tr>\n",
    "</table>"
   ]
  },
  {
   "cell_type": "markdown",
   "metadata": {
    "id": "Wn-VBGGURQvJ"
   },
   "source": [
    "# 5. Flatten layer"
   ]
  },
  {
   "cell_type": "markdown",
   "metadata": {
    "id": "cJN7EvSuaKGW"
   },
   "source": [
    "To connect the convolution layer and the dense layer, you should flatten the output of the convolution layer or max pooling layer before dense layer."
   ]
  },
  {
   "cell_type": "code",
   "execution_count": 13,
   "metadata": {
    "id": "2-F3jskjRQvK"
   },
   "outputs": [],
   "source": [
    "class Flatten():\n",
    "    def __init__(self):\n",
    "        self.name=\"flatten\"\n",
    "\n",
    "    def forward(self, A_prev):\n",
    "        \"\"\"\n",
    "        Implements the forward pass of the flatten layer\n",
    "\n",
    "        Arguments:\n",
    "        A_prev -- Input data, numpy array of shape (m, n_H_prev, n_W_prev, n_C_prev)\n",
    "\n",
    "        Returns:\n",
    "        A -- output of the flatten layer, a 1-dimensional array\n",
    "        \"\"\"\n",
    "\n",
    "        # Save information in \"cache\" for the backward pass\n",
    "        self.cache = A_prev[0].shape\n",
    "\n",
    "        # GRADED FUNCTION: flatten_forward\n",
    "        ### START CODE HERE ### (≈1 line)\n",
    "        A = np.array([i.flatten() for i in A_prev])\n",
    "        ### END CODE HERE ###\n",
    "        return A\n",
    "\n",
    "    def backward(self, dA):\n",
    "        \"\"\"\n",
    "        Implements the backward pass of the flatten layer\n",
    "\n",
    "        Arguments:\n",
    "        dA -- Input data, a 1-dimensional array\n",
    "\n",
    "        Returns:\n",
    "        dA_prev -- An array with its original shape (the output shape of its' previous layer).\n",
    "        \"\"\"\n",
    "        # GRADED FUNCTION: flatten_backward\n",
    "        ### START CODE HERE ### (≈1 line)\n",
    "        dA_prev = np.array([i.reshape(self.cache) for i in dA])\n",
    "        ### END CODE HERE ###\n",
    "        return dA_prev"
   ]
  },
  {
   "cell_type": "markdown",
   "metadata": {
    "id": "5Haf0l4nau3y"
   },
   "source": [
    "## 5.1 Forward pass\n",
    "\n",
    "**Exercise**: Implement the forward pass of flatten layer. Turn the input array into a 1-dimensional array. (5%)\n",
    "\n",
    "This function takes the following input:\n",
    "*   A_prev: Input data, it's an array with shape (m, n_H_prev, n_W_prev, n_C_prev).\n"
   ]
  },
  {
   "cell_type": "code",
   "execution_count": 14,
   "metadata": {
    "id": "TF96C0Fyat_4"
   },
   "outputs": [
    {
     "name": "stdout",
     "output_type": "stream",
     "text": [
      "A.shape = (2, 8)\n",
      "A[0] = [ 1.62434536 -0.61175641 -0.52817175 -1.07296862  0.86540763 -2.3015387\n",
      "  1.74481176 -0.7612069 ]\n"
     ]
    }
   ],
   "source": [
    "np.random.seed(seed)\n",
    "A_prev = np.random.randn(2,2,2,2)\n",
    "flatten = Flatten()\n",
    "A = flatten.forward(A_prev)\n",
    "print(\"A.shape =\", A.shape)\n",
    "print(\"A[0] =\", A[0])\n",
    "\n",
    "\n",
    "np.random.seed(seed)\n",
    "A_prev = np.random.randn(2,3,3,2)\n",
    "flatten = Flatten()\n",
    "A = flatten.forward(A_prev)\n",
    "output[\"flatten_forward\"] = A[0]"
   ]
  },
  {
   "cell_type": "markdown",
   "metadata": {
    "id": "Rq3qbOjiVhjj"
   },
   "source": [
    "Expected output: \n",
    "<table>\n",
    "  <tr>\n",
    "    <td>A.shape: </td>\n",
    "    <td>(2, 8)</td>\n",
    "  </tr>\n",
    "  <tr>\n",
    "    <td>A[0]: </td>\n",
    "    <td>[ 1.62434536 -0.61175641 -0.52817175 -1.07296862  0.86540763 -2.3015387\n",
    "  1.74481176 -0.7612069 ]</td>\n",
    "  </tr>\n",
    "</table>"
   ]
  },
  {
   "cell_type": "markdown",
   "metadata": {
    "id": "qdWPIB6_a8_n"
   },
   "source": [
    "## 5.2  Backward pass\n",
    "\n",
    "**Exercise**: Implement the backward pass of flatten layer. Turn the input array back to its original shape.(the output shape of its' previous layer). (5%)\n",
    "\n",
    "This function takes the following input:\n",
    "*   dA: the output of backward pass from the next layer, it's a 1-dimensional array."
   ]
  },
  {
   "cell_type": "code",
   "execution_count": 15,
   "metadata": {
    "id": "dY8vpJPLauWd"
   },
   "outputs": [
    {
     "name": "stdout",
     "output_type": "stream",
     "text": [
      "B.shape = (2, 2, 2, 2)\n",
      "B[0] = [[[ 1.62434536 -0.61175641]\n",
      "  [-0.52817175 -1.07296862]]\n",
      "\n",
      " [[ 0.86540763 -2.3015387 ]\n",
      "  [ 1.74481176 -0.7612069 ]]]\n"
     ]
    }
   ],
   "source": [
    "np.random.seed(seed)\n",
    "A_prev = np.random.randn(2,2,2,2)\n",
    "flatten = Flatten()\n",
    "A = flatten.forward(A_prev)\n",
    "B = flatten.backward(A)\n",
    "print(\"B.shape =\", B.shape)\n",
    "print(\"B[0] =\", B[0])\n",
    "\n",
    "# B and A_prev should be same\n",
    "assert((B==A_prev).all())\n",
    "\n",
    "np.random.seed(seed)\n",
    "A_prev = np.random.randn(4,3,3,3)\n",
    "flatten = Flatten()\n",
    "A = flatten.forward(A_prev)\n",
    "B = flatten.backward(A)\n",
    "output[\"flatten_backward\"] = B[0]\n",
    "\n"
   ]
  },
  {
   "cell_type": "markdown",
   "metadata": {
    "id": "3khMiPehVjIV"
   },
   "source": [
    "Expected output: \n",
    "<table>\n",
    "  <tr>\n",
    "    <td>B.shape: </td>\n",
    "    <td>(2, 2, 2, 2)</td>\n",
    "  </tr>\n",
    "  <tr>\n",
    "    <td>B[0]: </td>\n",
    "    <td>[[[ 1.62434536 -0.61175641]\n",
    "  [-0.52817175 -1.07296862]]\n",
    "  [[ 0.86540763 -2.3015387 ]\n",
    "  [ 1.74481176 -0.7612069 ]]]</td>\n",
    "  </tr>\n",
    "</table>"
   ]
  },
  {
   "cell_type": "markdown",
   "metadata": {
    "id": "RYqpQu6Eye7h"
   },
   "source": [
    "# 6. Model\n",
    "Alright, now you have all the tools that are needed to build a convolutional neural network. Let's get started! Use the knowledge you learned from assignment 4 to finish this part. But there is some difference:\n",
    "\n",
    "1. In this part, we will call model.add( ) to add a layer into the model. For example:\n",
    "* model.add(Conv( )): add a convolution layer into the model.\n",
    "* model.add(Dense( )): add a dense layer into the model.\n",
    "* model.add(Activation( )): add an activation layer into the model.\n",
    "\n",
    "2. Because the dense layer you implement in assignment3 takes the input shape as [:, m], where m represents the number of examples. However, when the training data go through the convolution layer and maxpool layer, its shape will be [m,:]. As a consequence, in the forward pass, the output of flatten.forward( ) need to be transposed. Similarly, in the backward pass, before the data goes into flatten.backward( ), it needs to be transposed again.\n"
   ]
  },
  {
   "cell_type": "code",
   "execution_count": 16,
   "metadata": {
    "id": "7dWrCCkPRQvK"
   },
   "outputs": [],
   "source": [
    "class Model():\n",
    "    def __init__(self):       \n",
    "        self.layers=[]\n",
    "\n",
    "    def add(self, layer):\n",
    "        self.layers.append(layer)\n",
    "\n",
    "    def forward(self, X):\n",
    "        A = X\n",
    "        # GRADED FUNCTION: model\n",
    "        ### START CODE HERE ### (≈ 5 lines)\n",
    "        for l in range(len(self.layers)):\n",
    "            if(self.layers[l].name==\"flatten\"):\n",
    "                A=self.layers[l].forward(A).T # Transpose after flatten layer\n",
    "            else:\n",
    "                A = self.layers[l].forward(A)\n",
    "        ### END CODE HERE ###\n",
    "        return A\n",
    "\n",
    "    def backward(self, AL=None, Y=None):\n",
    "        L = len(self.layers)\n",
    "\n",
    "        # GRADED FUNCTION: model\n",
    "        ### START CODE HERE ### (≈ 7 lines)\n",
    "        if self.layers[-1].name == \"sigmoid\":\n",
    "            dAL = - (np.divide(Y, AL + 1e-5) - np.divide(1 - Y, 1 - AL + 1e-5)) \n",
    "            dZ = self.layers[-1].backward(dA=dAL)  #activation layer backward\n",
    "            dA_prev = self.layers[-2].backward(dZ) #linear layer backward\n",
    "        else:\n",
    "            dZ = self.layers[-1].backward(Y=Y)\n",
    "            dA_prev = self.layers[-2].backward(dZ)\n",
    "        ### END CODE HERE ###\n",
    "\n",
    "        \n",
    "        # Loop from l=L-3 to l=0\n",
    "        # GRADED FUNCTION: model\n",
    "        ### START CODE HERE ### (≈ 5 lines)\n",
    "        for l in reversed(range(L-2)):\n",
    "            if(self.layers[l].name==\"flatten\"):\n",
    "                dA_prev=self.layers[l].backward(dA_prev.T) # Transpose before goes into flatten layer\n",
    "            else:\n",
    "                dA_prev = self.layers[l].backward(dA_prev)\n",
    "        ### END CODE HERE ###\n",
    "\n",
    "        return dA_prev\n",
    "\n",
    "    def update(self, learning_rate):\n",
    "        \"\"\"\n",
    "        Arguments:\n",
    "        learning_rate -- step size\n",
    "        \"\"\"\n",
    "        \n",
    "        # GRADED FUNCTION: model\n",
    "        # Only convolution layer and dense layer have to update parameters\n",
    "        ### START CODE HERE ### (≈ 3 lines)\n",
    "        for l in range(len(self.layers)):\n",
    "            if self.layers[l].name == \"conv\" or self.layers == \"dense\":\n",
    "                self.layers[l].update(learning_rate)\n",
    "        ### END CODE HERE ###\n",
    "        "
   ]
  },
  {
   "cell_type": "markdown",
   "metadata": {
    "id": "36my0zWnlv3K"
   },
   "source": [
    "## 6.1 Model forward, backward and update:\n",
    "**Exercise**: Here is an exercise to make sure your model works correctly. (5%)"
   ]
  },
  {
   "cell_type": "code",
   "execution_count": 17,
   "metadata": {
    "id": "gN-8NQ_KRQvK"
   },
   "outputs": [
    {
     "name": "stdout",
     "output_type": "stream",
     "text": [
      "[ 0.36135339 -0.08462337 -0.00125603 -0.75846791 -0.10766644 -0.30566005\n",
      " -0.6160899   0.17289454]\n",
      "[[[[-0.17413437 -1.16136976  2.2091218   1.09197293  1.09878206\n",
      "    -0.99630691  2.22696487 -0.20973624]]]]\n",
      "[-2.14606176 -0.75085187 -1.19750975 -0.8916535  -0.91436404 -0.76753\n",
      " -1.30207298 -0.52670234]\n",
      "[[-0.47493517]]\n"
     ]
    }
   ],
   "source": [
    "np.random.seed(seed)\n",
    "A = np.random.randn(4,10,10,3)\n",
    "Y = np.array([[1,0,1,0]])\n",
    "\n",
    "model=Model()\n",
    "model.add(Conv(filter_size=3, input_channel=3, output_channel=8, pad=1, stride=2))\n",
    "model.add(Activation(\"relu\"))\n",
    "model.add(MaxPool(filter_size=2, stride=2))\n",
    "model.add(Flatten())\n",
    "model.add(Dense(32, 1))\n",
    "model.add(Activation(\"sigmoid\"))\n",
    "\n",
    "\n",
    "AL = model.forward(A)\n",
    "dA_prev = model.backward(AL=AL, Y=Y)\n",
    "model.update(0.01)\n",
    "\n",
    "print(model.layers[0].dW[0,0,0])\n",
    "print(model.layers[0].db)\n",
    "print(model.layers[4].dW[0,:8])\n",
    "print(model.layers[4].db)\n",
    "\n",
    "\n",
    "np.random.seed(seed)\n",
    "A = np.random.randn(4,8,8,3)\n",
    "Y = np.array([[1,1,0,0]])\n",
    "\n",
    "model=Model()\n",
    "model.add(Conv(filter_size=3, input_channel=3, output_channel=16, pad=1, stride=2))\n",
    "model.add(Activation(\"relu\"))\n",
    "model.add(MaxPool(filter_size=2, stride=2))\n",
    "model.add(Flatten())\n",
    "model.add(Dense(64, 1))\n",
    "model.add(Activation(\"sigmoid\"))\n",
    "\n",
    "\n",
    "AL = model.forward(A)\n",
    "dA_prev = model.backward(AL=AL, Y=Y)\n",
    "model.update(0.001)\n",
    "\n",
    "output[\"model_1\"] = model.layers[0].dW[0,0,0]\n",
    "output[\"model_2\"] = model.layers[0].db\n",
    "output[\"model_3\"] = model.layers[4].dW[0,:8]\n",
    "output[\"model_4\"] = model.layers[4].db"
   ]
  },
  {
   "cell_type": "markdown",
   "metadata": {
    "id": "vGTtpnWcVvce"
   },
   "source": [
    "Expected output: \n",
    "<table>\n",
    "  <tr>\n",
    "    <td>model.layers[0].dW[0,0,0]: </td>\n",
    "    <td>[ 0.36135339 -0.08462337 -0.00125603 -0.75846791 -0.10766644 -0.30566005\n",
    " -0.6160899   0.17289454]</td>\n",
    "  </tr>\n",
    "  <tr>\n",
    "    <td>model.layers[0].db: </td>\n",
    "    <td>[[[[-0.17413437 -1.16136976  2.2091218   1.09197293  1.09878206\n",
    "    -0.99630691  2.22696487 -0.20973624]]]]</td>\n",
    "  </tr>\n",
    "  <tr>\n",
    "    <td>model.layers[4].dW[0,:8]: </td>\n",
    "    <td>[-2.14606176 -0.75085187 -1.19750975 -0.8916535  -0.91436404 -0.76753\n",
    " -1.30207298 -0.52670234]</td>\n",
    "  </tr>\n",
    "  <tr>\n",
    "    <td>model.layers[4].db: </td>\n",
    "    <td>[[-0.47493517]]</td>\n",
    "  </tr>\n",
    "</table>"
   ]
  },
  {
   "cell_type": "markdown",
   "metadata": {
    "id": "9EC0qy26RQvN"
   },
   "source": [
    "# 7. Binary classification\n",
    "\n",
    "Congratulations on implementing all the functions by yourself. You have done an incredible job! 👏\n",
    "\n",
    "Now you have all the tools you need to get started with classification. In this section, you will build a binary classifier using the functions you had previously written. You will create a model that can determine whether a CXR image is normal or not. There will be 600 training images and 60 testing images, and the size of all images are 32 * 32 * 1.\n",
    "\n",
    "\n",
    "**Exercise**: Implement a binary classifier and tune the hyperparameter. You will get all 10% if your prediction achieves accuracy greater than 0.55 in testing data. (10%)\n",
    "\n",
    "**Instruction**:\n",
    "*   You can only use the functions you had previously written.\n",
    "*   Preprocess the data by using min-max scaling to normalize X. Normalize the values of each feature between 0 and 1.\n",
    "*   Use batch gradient descent to train the model.\n",
    "\n"
   ]
  },
  {
   "cell_type": "markdown",
   "metadata": {
    "id": "K2X2fb7aoJTg"
   },
   "source": [
    "## 7.1 Data preprocessing"
   ]
  },
  {
   "cell_type": "code",
   "execution_count": 18,
   "metadata": {
    "id": "QWHxt5cDZ9mg"
   },
   "outputs": [],
   "source": [
    "PATH = \"Training_data\"  #path to your training image\n",
    "file_dir = os.listdir(PATH) #read the images from the directory\n",
    "file_dir.sort() #Make sure the images are loaded in order\n",
    "X_train = np.array([])\n",
    "\n",
    "# Prepare X_train\n",
    "# The shape of X_train will be (number of examples, height of image, width of image, channel of image)\n",
    "# GRADED CODE: Binary classification (Data preprocessing)\n",
    "# hint: use imread(PATH, IMREAD_GRAYSCALE) to load image\n",
    "### START CODE HERE ### (≈ 9 line)\n",
    "X_train = np.array([imread(PATH + \"/\" + i, IMREAD_GRAYSCALE) for i in file_dir])[: , : , : , np.newaxis] / 255\n",
    "\n",
    "### END CODE HERE ###### END CODE HERE ###\n",
    "\n",
    "\n"
   ]
  },
  {
   "cell_type": "code",
   "execution_count": 19,
   "metadata": {
    "id": "I527tbN2_Obg"
   },
   "outputs": [],
   "source": [
    "PATH = \"Testing_data\"  #path to your testing image\n",
    "file_dir = os.listdir(PATH)\n",
    "file_dir.sort()\n",
    "X_test = np.array([])\n",
    "\n",
    "# Prepare X_testi\n",
    "# The shape of X_teset will be (number of examples, height of image, width of image, channel of image)\n",
    "# GRADED CODE: Binary classification (Data preprocessing)\n",
    "### START CODE HERE ### (≈ 9 line)\n",
    "X_test = np.array([imread(PATH + \"/\" + i, IMREAD_GRAYSCALE) for i in file_dir])[: , : , : , np.newaxis] / 255\n",
    "### END CODE HERE ###### END CODE HERE ###\n",
    "        \n",
    "\n",
    "\n"
   ]
  },
  {
   "cell_type": "code",
   "execution_count": 20,
   "metadata": {
    "id": "bxaslew_lkKY"
   },
   "outputs": [],
   "source": [
    "data = read_csv(\"Training_label.csv\")\n",
    "\n",
    "y_train = []\n",
    "# Prepare y_train\n",
    "# The shape of y_train will be (number of examples, 1), we will transpose y_train latter.\n",
    "# GRADED CODE: Binary classification (Data preprocessing)\n",
    "### START CODE HERE ### (≈ 2 line)\n",
    "y_train = np.array(data['label'])[: , np.newaxis]\n",
    "\n",
    "### END CODE HERE ###\n",
    "\n"
   ]
  },
  {
   "cell_type": "code",
   "execution_count": 21,
   "metadata": {
    "id": "iwhza4gUboQ6"
   },
   "outputs": [],
   "source": [
    "from sklearn.model_selection import train_test_split\n",
    "#You can split training and validation set here. (Optional)\n",
    "### START CODE HERE ###\n",
    "validation = True\n",
    "if validation and y_train.shape[0] == data.shape[0]:\n",
    "    X_train, X_val, y_train, y_val = train_test_split(X_train, y_train, test_size=0.1)\n",
    "### END CODE HERE ###"
   ]
  },
  {
   "cell_type": "code",
   "execution_count": 22,
   "metadata": {
    "id": "wKkOpp6uyCQY"
   },
   "outputs": [
    {
     "data": {
      "image/png": "[encoded data removed]",
      "text/plain": [
       "<Figure size 640x480 with 9 Axes>"
      ]
     },
     "metadata": {},
     "output_type": "display_data"
    },
    {
     "name": "stdout",
     "output_type": "stream",
     "text": [
      "Train: X=(540, 32, 32, 1), y=(1, 540)\n",
      "Val: X=(60, 32, 32, 1), y=(1, 60)\n",
      "Test: X=(60, 32, 32, 1)\n"
     ]
    }
   ],
   "source": [
    "y_train = y_train.T #transpose y_train\n",
    "y_val = y_val.T\n",
    "\n",
    "# plot first few images\n",
    "for i in range(9):\n",
    "    # define subplot\n",
    "    plt.subplot(330 + 1 + i)\n",
    "    # plot raw pixel data\n",
    "    plt.imshow(X_train[i].squeeze(), cmap='gray', vmin=0, vmax=1)\n",
    "# show the figure\n",
    "plt.show()\n",
    "\n",
    "# check the shape of training data and testing data\n",
    "print('Train: X=%s, y=%s' % (X_train.shape, y_train.shape))\n",
    "print('Val: X=%s, y=%s' % (X_val.shape, y_val.shape))\n",
    "print('Test: X=%s' % (X_test.shape, ))"
   ]
  },
  {
   "cell_type": "markdown",
   "metadata": {
    "id": "qdK9_gnZAjYD"
   },
   "source": [
    "## 7.2 mini-batch gradient descent"
   ]
  },
  {
   "cell_type": "code",
   "execution_count": 23,
   "metadata": {
    "id": "LVTeqK9TqMwP"
   },
   "outputs": [],
   "source": [
    "def random_mini_batches(X, Y, mini_batch_size = 64):\n",
    "    \"\"\"\n",
    "    Creates a list of random minibatches from (X, Y)\n",
    "    \n",
    "    Arguments:\n",
    "    X -- input data, of shape !!!!!!!!!!!(number of examples ,input size)!!!!!!!!!!!\n",
    "    Y -- true \"label\" vector, of shape (number of classes, number of examples)\n",
    "    mini_batch_size -- size of the mini-batches, integer\n",
    "    \n",
    "    Returns:\n",
    "    mini_batches -- list of synchronous (mini_batch_X, mini_batch_Y)\n",
    "    \"\"\"\n",
    "    \n",
    "    m = X.shape[0]  # number of training examples\n",
    "    mini_batches = []\n",
    "\n",
    "    # GRADED CODE: Binary classification\n",
    "    ### START CODE HERE ###\n",
    "        \n",
    "    # Step 1: Shuffle (X, Y)\n",
    "    permutation = list(np.random.permutation(m))\n",
    "    shuffled_X = np.array([X[p] for p in permutation])\n",
    "    shuffled_Y = np.array([Y[: , p] for p in permutation])\n",
    "    \n",
    "    inc = mini_batch_size\n",
    "\n",
    "    # Step 2 - Partition (shuffled_X, shuffled_Y).\n",
    "    # Cases with a complete mini batch size only i.e each of 64 examples.\n",
    "    num_complete_minibatches = math.floor(m / mini_batch_size) # number of mini batches of size mini_batch_size in your partitionning\n",
    "    for k in range(0, num_complete_minibatches):\n",
    "        # (approx. 2 lines)\n",
    "        mini_batch_X = shuffled_X[k * mini_batch_size: (k + 1) * mini_batch_size]\n",
    "        mini_batch_Y = shuffled_Y[k * mini_batch_size: (k + 1) * mini_batch_size]\n",
    "        mini_batch = (mini_batch_X, mini_batch_Y)\n",
    "        mini_batches.append(mini_batch)\n",
    "    \n",
    "    # For handling the end case (last mini-batch < mini_batch_size i.e less than 64)\n",
    "    if m % mini_batch_size != 0:\n",
    "        #(approx. 2 lines)\n",
    "        mini_batch_X = shuffled_X[num_complete_minibatches * mini_batch_size: ]\n",
    "        mini_batch_Y = shuffled_Y[num_complete_minibatches * mini_batch_size: ]\n",
    "        mini_batch = (mini_batch_X, mini_batch_Y)\n",
    "        mini_batches.append(mini_batch)\n",
    "    \n",
    "    \n",
    "    return mini_batches\n",
    "\n",
    "    ### END CODE HERE ###"
   ]
  },
  {
   "cell_type": "markdown",
   "metadata": {
    "id": "5FIrnqYMFGRq"
   },
   "source": [
    "## 7.3 Start training"
   ]
  },
  {
   "cell_type": "code",
   "execution_count": 24,
   "metadata": {
    "id": "1CBktduDyKd6"
   },
   "outputs": [
    {
     "name": "stdout",
     "output_type": "stream",
     "text": [
      "epoch:  0\n",
      "Cost after iteration 0: 0.806894\n",
      "Accuracy after iteration 0: 0.566667\n",
      "epoch:  1\n",
      "Cost after iteration 1: 0.690050\n",
      "Accuracy after iteration 1: 0.450000\n",
      "epoch:  2\n",
      "Cost after iteration 2: 0.684743\n",
      "Accuracy after iteration 2: 0.416667\n",
      "epoch:  3\n",
      "Cost after iteration 3: 0.700879\n",
      "Accuracy after iteration 3: 0.400000\n",
      "epoch:  4\n",
      "Cost after iteration 4: 0.702798\n",
      "Accuracy after iteration 4: 0.350000\n",
      "epoch:  5\n",
      "Cost after iteration 5: 0.749503\n",
      "Accuracy after iteration 5: 0.433333\n",
      "epoch:  6\n",
      "Cost after iteration 6: 0.703639\n",
      "Accuracy after iteration 6: 0.433333\n",
      "epoch:  7\n",
      "Cost after iteration 7: 0.710109\n",
      "Accuracy after iteration 7: 0.433333\n",
      "epoch:  8\n",
      "Cost after iteration 8: 0.700986\n",
      "Accuracy after iteration 8: 0.483333\n",
      "epoch:  9\n",
      "Cost after iteration 9: 0.684170\n",
      "Accuracy after iteration 9: 0.583333\n",
      "epoch:  10\n",
      "Cost after iteration 10: 0.682089\n",
      "Accuracy after iteration 10: 0.500000\n",
      "epoch:  11\n",
      "Cost after iteration 11: 0.688616\n",
      "Accuracy after iteration 11: 0.466667\n",
      "epoch:  12\n",
      "Cost after iteration 12: 0.697869\n",
      "Accuracy after iteration 12: 0.516667\n",
      "epoch:  13\n",
      "Cost after iteration 13: 0.685910\n",
      "Accuracy after iteration 13: 0.633333\n",
      "epoch:  14\n",
      "Cost after iteration 14: 0.686084\n",
      "Accuracy after iteration 14: 0.683333\n",
      "epoch:  15\n",
      "Cost after iteration 15: 0.697624\n",
      "Accuracy after iteration 15: 0.683333\n",
      "epoch:  16\n",
      "Cost after iteration 16: 0.694777\n",
      "Accuracy after iteration 16: 0.683333\n",
      "epoch:  17\n",
      "Cost after iteration 17: 0.693186\n",
      "Accuracy after iteration 17: 0.666667\n",
      "epoch:  18\n",
      "Cost after iteration 18: 0.685857\n",
      "Accuracy after iteration 18: 0.683333\n",
      "epoch:  19\n",
      "Cost after iteration 19: 0.701992\n",
      "Accuracy after iteration 19: 0.683333\n"
     ]
    },
    {
     "data": {
      "image/png": "[encoded data removed]",
      "text/plain": [
       "<Figure size 640x480 with 1 Axes>"
      ]
     },
     "metadata": {},
     "output_type": "display_data"
    },
    {
     "data": {
      "image/png": "[encoded data removed]",
      "text/plain": [
       "<Figure size 640x480 with 1 Axes>"
      ]
     },
     "metadata": {},
     "output_type": "display_data"
    }
   ],
   "source": [
    "# GRADED CODE: Binary classification\n",
    "### START CODE HERE ###\n",
    "learning_rate = 0.001\n",
    "num_iterations = 20\n",
    "batch_size = 16\n",
    "print_cost = True\n",
    "classes = 2\n",
    "costs = []   # keep track of cost\n",
    "accs = []\n",
    "\n",
    "# build the model\n",
    "model=Model()\n",
    "model.add(Conv(filter_size=3, input_channel=1, output_channel=16, pad=0, stride=2))\n",
    "model.add(Activation(\"relu\"))\n",
    "model.add(MaxPool(filter_size=2, stride=2))\n",
    "model.add(Conv(filter_size=3, input_channel=16, output_channel=16, pad=0, stride=2))\n",
    "model.add(Activation(\"relu\"))\n",
    "\n",
    "model.add(Flatten())\n",
    "model.add(Dense(144, 32))\n",
    "model.add(Activation(\"relu\"))\n",
    "model.add(Dense(32, 1))\n",
    "model.add(Activation(\"sigmoid\"))\n",
    "\n",
    "# Loop (gradient descent)\n",
    "for i in range(0, num_iterations):\n",
    "    if i == 15:\n",
    "        learning_rate = 3e-5\n",
    "    print(\"epoch: \",i)\n",
    "    mini_batches = random_mini_batches(X_train, y_train, batch_size)\n",
    "    for batch in mini_batches:\n",
    "        x_batch, y_batch = batch\n",
    "\n",
    "        # forward\n",
    "        AL = model.forward(x_batch)\n",
    "\n",
    "        # compute cost\n",
    "        if classes == 2:\n",
    "            cost = compute_BCE_cost(AL, np.transpose(y_batch))\n",
    "        else:\n",
    "            cost = compute_CCE_cost(AL, np.transpose(y_batch))\n",
    "\n",
    "        # backward\n",
    "        dA_prev = model.backward(AL = AL, Y = y_batch)\n",
    "\n",
    "        # update\n",
    "        model.update(learning_rate)\n",
    "    acc = np.sum(predict(X_val, None, model, 2) == y_val) / y_val.shape[1]\n",
    "    print (\"Cost after iteration %i: %f\" %(i, cost))\n",
    "    costs.append(cost)\n",
    "    print(\"Accuracy after iteration %i: %f\" %(i, acc))\n",
    "    accs.append(acc)\n",
    "### END CODE HERE ###\n",
    "            \n",
    "# plot the cost\n",
    "plt.plot(np.squeeze(costs))\n",
    "plt.ylabel('cost')\n",
    "plt.xlabel('iterations')\n",
    "plt.title(\"Learning rate =\" + str(learning_rate))\n",
    "plt.show()\n",
    "\n",
    "plt.plot(np.squeeze(accs))\n",
    "plt.ylabel('accuracy')\n",
    "plt.xlabel('iterations')\n",
    "plt.title(\"Learning rate =\" + str(learning_rate))\n",
    "plt.show()\n"
   ]
  },
  {
   "cell_type": "code",
   "execution_count": 25,
   "metadata": {},
   "outputs": [
    {
     "name": "stdout",
     "output_type": "stream",
     "text": [
      "Accuracy: 0.5388888888888889\n",
      "Accuracy: 0.6833333333333333\n"
     ]
    }
   ],
   "source": [
    "pred_test = predict(X_train, y_train, model, 2)\n",
    "pred_val = predict(X_val, y_val, model, 2)"
   ]
  },
  {
   "cell_type": "code",
   "execution_count": 26,
   "metadata": {
    "id": "1hIZQOfGAPJJ"
   },
   "outputs": [],
   "source": [
    "pred_test = predict(X_test, None, model, 2)\n",
    "output[\"basic_pred_test\"] = pred_test[0].astype(int)\n",
    "\n",
    "basic_model_layers = []\n",
    "basic_model_parameters = []\n",
    "for layer in model.layers:\n",
    "    basic_model_layers.append(layer.name)\n",
    "    if(layer.name==\"conv\" or layer.name==\"dense\" or layer.name==\"maxpool\"):\n",
    "        basic_model_parameters.append(layer.parameters)\n",
    "output[\"basic_model_layers\"] = basic_model_layers\n",
    "output[\"basic_model_parameters\"] = basic_model_parameters"
   ]
  },
  {
   "cell_type": "markdown",
   "metadata": {
    "id": "rrrYp1RwSIOh"
   },
   "source": [
    "# 8. Advanced implementation\n",
    "In this part, you will practice how to build a model by **Tensorflow**, and you finally can use GPU to accelerate the training process☺️. You can import any packages in the advanced part.\n",
    "\n",
    "**Exercise**: Implement a binary classifier by Tensorflow. You will get 15% if your prediction achieves accuracy greater than 0.7 in testing data. The rest 10% will be graded by your rank.\n",
    "\n",
    "Except you have to build the model by Tensorflow, there is no limitation in this part. You can try different model architectures, optimization parametes and image augmentation methods to get good performance.\n",
    "\n"
   ]
  },
  {
   "cell_type": "code",
   "execution_count": 27,
   "metadata": {
    "id": "PDyxdy9Jk982"
   },
   "outputs": [],
   "source": [
    "# import some tensorflow packages to help you build the model\n",
    "import tensorflow as tf\n",
    "from tensorflow.keras import layers, models\n",
    "\n",
    "# import other packages here"
   ]
  },
  {
   "cell_type": "code",
   "execution_count": 28,
   "metadata": {
    "id": "hhAjQTjPk-I0"
   },
   "outputs": [
    {
     "name": "stdout",
     "output_type": "stream",
     "text": [
      "(540, 1)\n",
      "(60, 1)\n"
     ]
    }
   ],
   "source": [
    "# GRADED CODE: Advanced implementation\n",
    "### Data preprocess & augmentation ###\n",
    "if y_train.shape[0] == 1:\n",
    "    y_train = np.transpose(y_train)\n",
    "    if validation:\n",
    "        y_val = np.transpose(y_val)\n",
    "print(y_train.shape)\n",
    "print(y_val.shape)\n",
    "#You may have to adjust the shape of y_train"
   ]
  },
  {
   "cell_type": "code",
   "execution_count": 29,
   "metadata": {
    "id": "PgL3loUQk-LO",
    "scrolled": true
   },
   "outputs": [
    {
     "name": "stdout",
     "output_type": "stream",
     "text": [
      "Model: \"sequential\"\n",
      "_________________________________________________________________\n",
      " Layer (type)                Output Shape              Param #   \n",
      "=================================================================\n",
      " conv2d (Conv2D)             (None, 16, 16, 16)        272       \n",
      "                                                                 \n",
      " max_pooling2d (MaxPooling2D  (None, 8, 8, 16)         0         \n",
      " )                                                               \n",
      "                                                                 \n",
      " conv2d_1 (Conv2D)           (None, 8, 8, 16)          2320      \n",
      "                                                                 \n",
      " max_pooling2d_1 (MaxPooling  (None, 4, 4, 16)         0         \n",
      " 2D)                                                             \n",
      "                                                                 \n",
      " flatten (Flatten)           (None, 256)               0         \n",
      "                                                                 \n",
      " dense (Dense)               (None, 64)                16448     \n",
      "                                                                 \n",
      " dense_1 (Dense)             (None, 16)                1040      \n",
      "                                                                 \n",
      " dense_2 (Dense)             (None, 4)                 68        \n",
      "                                                                 \n",
      " dense_3 (Dense)             (None, 1)                 5         \n",
      "                                                                 \n",
      "=================================================================\n",
      "Total params: 20,153\n",
      "Trainable params: 20,153\n",
      "Non-trainable params: 0\n",
      "_________________________________________________________________\n",
      "Epoch 1/228\n",
      "17/17 [==============================] - 1s 17ms/step - loss: 0.6940 - accuracy: 0.4889 - val_loss: 0.6936 - val_accuracy: 0.4333\n",
      "Epoch 2/228\n",
      "17/17 [==============================] - 0s 7ms/step - loss: 0.6933 - accuracy: 0.5074 - val_loss: 0.6956 - val_accuracy: 0.4333\n",
      "Epoch 3/228\n",
      "17/17 [==============================] - 0s 8ms/step - loss: 0.6923 - accuracy: 0.5074 - val_loss: 0.6931 - val_accuracy: 0.4333\n",
      "Epoch 4/228\n",
      "17/17 [==============================] - 0s 8ms/step - loss: 0.6915 - accuracy: 0.5074 - val_loss: 0.6942 - val_accuracy: 0.4333\n",
      "Epoch 5/228\n",
      "17/17 [==============================] - 0s 8ms/step - loss: 0.6896 - accuracy: 0.5074 - val_loss: 0.6909 - val_accuracy: 0.4333\n",
      "Epoch 6/228\n",
      "17/17 [==============================] - 0s 8ms/step - loss: 0.6832 - accuracy: 0.5074 - val_loss: 0.6886 - val_accuracy: 0.4333\n",
      "Epoch 7/228\n",
      "17/17 [==============================] - 0s 8ms/step - loss: 0.6704 - accuracy: 0.5204 - val_loss: 0.6707 - val_accuracy: 0.6333\n",
      "Epoch 8/228\n",
      "17/17 [==============================] - 0s 8ms/step - loss: 0.6482 - accuracy: 0.6370 - val_loss: 0.6506 - val_accuracy: 0.6333\n",
      "Epoch 9/228\n",
      "17/17 [==============================] - 0s 7ms/step - loss: 0.6202 - accuracy: 0.6778 - val_loss: 0.6364 - val_accuracy: 0.6500\n",
      "Epoch 10/228\n",
      "17/17 [==============================] - 0s 7ms/step - loss: 0.5862 - accuracy: 0.7500 - val_loss: 0.6221 - val_accuracy: 0.7333\n",
      "Epoch 11/228\n",
      "17/17 [==============================] - 0s 8ms/step - loss: 0.5706 - accuracy: 0.7556 - val_loss: 0.6187 - val_accuracy: 0.7667\n",
      "Epoch 12/228\n",
      "17/17 [==============================] - 0s 7ms/step - loss: 0.6323 - accuracy: 0.7167 - val_loss: 0.6719 - val_accuracy: 0.7000\n",
      "Epoch 13/228\n",
      "17/17 [==============================] - 0s 7ms/step - loss: 0.5842 - accuracy: 0.7556 - val_loss: 0.6091 - val_accuracy: 0.7833\n",
      "Epoch 14/228\n",
      "17/17 [==============================] - 0s 8ms/step - loss: 0.5520 - accuracy: 0.7833 - val_loss: 0.6120 - val_accuracy: 0.7667\n",
      "Epoch 15/228\n",
      "17/17 [==============================] - 0s 8ms/step - loss: 0.5371 - accuracy: 0.7963 - val_loss: 0.6090 - val_accuracy: 0.7833\n",
      "Epoch 16/228\n",
      "17/17 [==============================] - 0s 8ms/step - loss: 0.5536 - accuracy: 0.7870 - val_loss: 0.6422 - val_accuracy: 0.7167\n",
      "Epoch 17/228\n",
      "17/17 [==============================] - 0s 8ms/step - loss: 0.5291 - accuracy: 0.7963 - val_loss: 0.6127 - val_accuracy: 0.7667\n",
      "Epoch 18/228\n",
      "17/17 [==============================] - 0s 8ms/step - loss: 0.5213 - accuracy: 0.8056 - val_loss: 0.6113 - val_accuracy: 0.7667\n",
      "Epoch 19/228\n",
      "17/17 [==============================] - 0s 8ms/step - loss: 0.5126 - accuracy: 0.8037 - val_loss: 0.6125 - val_accuracy: 0.7500\n",
      "Epoch 20/228\n",
      "17/17 [==============================] - 0s 7ms/step - loss: 0.5103 - accuracy: 0.8111 - val_loss: 0.6059 - val_accuracy: 0.7667\n",
      "Epoch 21/228\n",
      "17/17 [==============================] - 0s 8ms/step - loss: 0.5027 - accuracy: 0.8185 - val_loss: 0.6256 - val_accuracy: 0.7667\n",
      "Epoch 22/228\n",
      "17/17 [==============================] - 0s 7ms/step - loss: 0.5008 - accuracy: 0.8167 - val_loss: 0.6056 - val_accuracy: 0.7333\n",
      "Epoch 23/228\n",
      "17/17 [==============================] - 0s 7ms/step - loss: 0.5068 - accuracy: 0.8111 - val_loss: 0.5963 - val_accuracy: 0.7333\n",
      "Epoch 24/228\n",
      "17/17 [==============================] - 0s 7ms/step - loss: 0.5008 - accuracy: 0.8167 - val_loss: 0.5970 - val_accuracy: 0.7667\n",
      "Epoch 25/228\n",
      "17/17 [==============================] - 0s 8ms/step - loss: 0.4920 - accuracy: 0.8278 - val_loss: 0.5842 - val_accuracy: 0.7667\n",
      "Epoch 26/228\n",
      "17/17 [==============================] - 0s 7ms/step - loss: 0.4959 - accuracy: 0.8167 - val_loss: 0.5775 - val_accuracy: 0.7667\n",
      "Epoch 27/228\n",
      "17/17 [==============================] - 0s 7ms/step - loss: 0.4841 - accuracy: 0.8204 - val_loss: 0.5812 - val_accuracy: 0.7500\n",
      "Epoch 28/228\n",
      "17/17 [==============================] - 0s 7ms/step - loss: 0.4808 - accuracy: 0.8259 - val_loss: 0.5967 - val_accuracy: 0.7167\n",
      "Epoch 29/228\n",
      "17/17 [==============================] - 0s 8ms/step - loss: 0.4748 - accuracy: 0.8296 - val_loss: 0.5727 - val_accuracy: 0.7667\n",
      "Epoch 30/228\n",
      "17/17 [==============================] - 0s 7ms/step - loss: 0.4721 - accuracy: 0.8259 - val_loss: 0.5897 - val_accuracy: 0.7500\n",
      "Epoch 31/228\n",
      "17/17 [==============================] - 0s 7ms/step - loss: 0.4648 - accuracy: 0.8315 - val_loss: 0.6059 - val_accuracy: 0.7667\n",
      "Epoch 32/228\n",
      "17/17 [==============================] - 0s 8ms/step - loss: 0.4642 - accuracy: 0.8241 - val_loss: 0.5711 - val_accuracy: 0.7667\n",
      "Epoch 33/228\n",
      "17/17 [==============================] - 0s 7ms/step - loss: 0.4728 - accuracy: 0.8296 - val_loss: 0.5627 - val_accuracy: 0.7667\n",
      "Epoch 34/228\n",
      "17/17 [==============================] - 0s 7ms/step - loss: 0.4656 - accuracy: 0.8222 - val_loss: 0.5744 - val_accuracy: 0.7667\n",
      "Epoch 35/228\n",
      "17/17 [==============================] - 0s 8ms/step - loss: 0.4630 - accuracy: 0.8241 - val_loss: 0.5696 - val_accuracy: 0.7667\n",
      "Epoch 36/228\n",
      "17/17 [==============================] - 0s 8ms/step - loss: 0.4586 - accuracy: 0.8370 - val_loss: 0.5708 - val_accuracy: 0.7667\n",
      "Epoch 37/228\n",
      "17/17 [==============================] - 0s 8ms/step - loss: 0.4491 - accuracy: 0.8352 - val_loss: 0.5665 - val_accuracy: 0.7667\n",
      "Epoch 38/228\n",
      "17/17 [==============================] - 0s 7ms/step - loss: 0.4525 - accuracy: 0.8370 - val_loss: 0.5682 - val_accuracy: 0.7667\n",
      "Epoch 39/228\n",
      "17/17 [==============================] - 0s 7ms/step - loss: 0.4426 - accuracy: 0.8333 - val_loss: 0.5691 - val_accuracy: 0.8000\n",
      "Epoch 40/228\n",
      "17/17 [==============================] - 0s 8ms/step - loss: 0.4403 - accuracy: 0.8444 - val_loss: 0.5685 - val_accuracy: 0.7667\n",
      "Epoch 41/228\n",
      "17/17 [==============================] - 0s 7ms/step - loss: 0.4462 - accuracy: 0.8315 - val_loss: 0.5627 - val_accuracy: 0.7667\n",
      "Epoch 42/228\n",
      "17/17 [==============================] - 0s 8ms/step - loss: 0.4406 - accuracy: 0.8389 - val_loss: 0.5642 - val_accuracy: 0.7833\n",
      "Epoch 43/228\n",
      "17/17 [==============================] - 0s 7ms/step - loss: 0.4329 - accuracy: 0.8481 - val_loss: 0.6007 - val_accuracy: 0.7667\n",
      "Epoch 44/228\n",
      "17/17 [==============================] - 0s 7ms/step - loss: 0.4215 - accuracy: 0.8259 - val_loss: 0.5202 - val_accuracy: 0.7667\n",
      "Epoch 45/228\n",
      "17/17 [==============================] - 0s 7ms/step - loss: 0.4059 - accuracy: 0.8370 - val_loss: 0.5295 - val_accuracy: 0.7667\n",
      "Epoch 46/228\n",
      "17/17 [==============================] - 0s 8ms/step - loss: 0.4150 - accuracy: 0.8352 - val_loss: 0.5090 - val_accuracy: 0.7833\n",
      "Epoch 47/228\n",
      "17/17 [==============================] - 0s 7ms/step - loss: 0.3997 - accuracy: 0.8389 - val_loss: 0.5201 - val_accuracy: 0.8167\n",
      "Epoch 48/228\n",
      "17/17 [==============================] - 0s 8ms/step - loss: 0.3881 - accuracy: 0.8426 - val_loss: 0.5030 - val_accuracy: 0.7833\n",
      "Epoch 49/228\n",
      "17/17 [==============================] - 0s 7ms/step - loss: 0.3830 - accuracy: 0.8426 - val_loss: 0.5239 - val_accuracy: 0.7833\n",
      "Epoch 50/228\n",
      "17/17 [==============================] - 0s 8ms/step - loss: 0.3798 - accuracy: 0.8426 - val_loss: 0.5154 - val_accuracy: 0.7833\n",
      "Epoch 51/228\n",
      "17/17 [==============================] - 0s 7ms/step - loss: 0.3826 - accuracy: 0.8481 - val_loss: 0.5176 - val_accuracy: 0.8000\n",
      "Epoch 52/228\n",
      "17/17 [==============================] - 0s 7ms/step - loss: 0.3743 - accuracy: 0.8537 - val_loss: 0.5166 - val_accuracy: 0.7833\n",
      "Epoch 53/228\n",
      "17/17 [==============================] - 0s 8ms/step - loss: 0.3805 - accuracy: 0.8407 - val_loss: 0.5389 - val_accuracy: 0.8167\n",
      "Epoch 54/228\n",
      "17/17 [==============================] - 0s 8ms/step - loss: 0.3774 - accuracy: 0.8537 - val_loss: 0.5113 - val_accuracy: 0.8167\n",
      "Epoch 55/228\n",
      "17/17 [==============================] - 0s 7ms/step - loss: 0.3723 - accuracy: 0.8574 - val_loss: 0.5153 - val_accuracy: 0.8000\n",
      "Epoch 56/228\n",
      "17/17 [==============================] - 0s 8ms/step - loss: 0.3687 - accuracy: 0.8407 - val_loss: 0.5211 - val_accuracy: 0.8000\n",
      "Epoch 57/228\n",
      "17/17 [==============================] - 0s 7ms/step - loss: 0.3603 - accuracy: 0.8537 - val_loss: 0.5324 - val_accuracy: 0.8167\n",
      "Epoch 58/228\n",
      "17/17 [==============================] - 0s 7ms/step - loss: 0.3663 - accuracy: 0.8574 - val_loss: 0.5356 - val_accuracy: 0.8000\n",
      "Epoch 59/228\n",
      "17/17 [==============================] - 0s 8ms/step - loss: 0.3544 - accuracy: 0.8574 - val_loss: 0.5439 - val_accuracy: 0.8000\n",
      "Epoch 60/228\n",
      "17/17 [==============================] - 0s 8ms/step - loss: 0.3671 - accuracy: 0.8481 - val_loss: 0.5221 - val_accuracy: 0.8167\n",
      "Epoch 61/228\n",
      "17/17 [==============================] - 0s 8ms/step - loss: 0.3537 - accuracy: 0.8593 - val_loss: 0.5266 - val_accuracy: 0.8167\n",
      "Epoch 62/228\n",
      "17/17 [==============================] - 0s 7ms/step - loss: 0.3468 - accuracy: 0.8722 - val_loss: 0.5359 - val_accuracy: 0.8000\n",
      "Epoch 63/228\n",
      "17/17 [==============================] - 0s 7ms/step - loss: 0.3583 - accuracy: 0.8537 - val_loss: 0.5083 - val_accuracy: 0.7833\n",
      "Epoch 64/228\n",
      "17/17 [==============================] - 0s 7ms/step - loss: 0.3621 - accuracy: 0.8500 - val_loss: 0.5124 - val_accuracy: 0.8000\n",
      "Epoch 65/228\n",
      "17/17 [==============================] - 0s 8ms/step - loss: 0.3495 - accuracy: 0.8481 - val_loss: 0.5346 - val_accuracy: 0.8167\n",
      "Epoch 66/228\n",
      "17/17 [==============================] - 0s 8ms/step - loss: 0.3356 - accuracy: 0.8722 - val_loss: 0.5429 - val_accuracy: 0.8167\n",
      "Epoch 67/228\n",
      "17/17 [==============================] - 0s 8ms/step - loss: 0.3342 - accuracy: 0.8722 - val_loss: 0.5216 - val_accuracy: 0.7833\n",
      "Epoch 68/228\n",
      "17/17 [==============================] - 0s 8ms/step - loss: 0.3653 - accuracy: 0.8574 - val_loss: 0.4883 - val_accuracy: 0.8333\n",
      "Epoch 69/228\n",
      "17/17 [==============================] - 0s 7ms/step - loss: 0.3316 - accuracy: 0.8741 - val_loss: 0.5342 - val_accuracy: 0.8000\n",
      "Epoch 70/228\n",
      "17/17 [==============================] - 0s 7ms/step - loss: 0.3407 - accuracy: 0.8648 - val_loss: 0.5016 - val_accuracy: 0.8167\n",
      "Epoch 71/228\n",
      "17/17 [==============================] - 0s 7ms/step - loss: 0.3420 - accuracy: 0.8630 - val_loss: 0.5919 - val_accuracy: 0.8167\n",
      "Epoch 72/228\n",
      "17/17 [==============================] - 0s 7ms/step - loss: 0.3580 - accuracy: 0.8593 - val_loss: 0.5452 - val_accuracy: 0.8000\n",
      "Epoch 73/228\n",
      "17/17 [==============================] - 0s 7ms/step - loss: 0.3228 - accuracy: 0.8852 - val_loss: 0.5437 - val_accuracy: 0.8000\n",
      "Epoch 74/228\n",
      "17/17 [==============================] - 0s 8ms/step - loss: 0.3141 - accuracy: 0.8722 - val_loss: 0.5575 - val_accuracy: 0.8000\n",
      "Epoch 75/228\n",
      "17/17 [==============================] - 0s 7ms/step - loss: 0.3224 - accuracy: 0.8778 - val_loss: 0.5229 - val_accuracy: 0.8000\n",
      "Epoch 76/228\n",
      "17/17 [==============================] - 0s 7ms/step - loss: 0.3102 - accuracy: 0.8778 - val_loss: 0.5418 - val_accuracy: 0.8000\n",
      "Epoch 77/228\n",
      "17/17 [==============================] - 0s 7ms/step - loss: 0.3144 - accuracy: 0.8778 - val_loss: 0.6052 - val_accuracy: 0.7833\n",
      "Epoch 78/228\n",
      "17/17 [==============================] - 0s 7ms/step - loss: 0.3059 - accuracy: 0.8815 - val_loss: 0.5394 - val_accuracy: 0.8000\n",
      "Epoch 79/228\n",
      "17/17 [==============================] - 0s 8ms/step - loss: 0.3350 - accuracy: 0.8704 - val_loss: 0.5134 - val_accuracy: 0.8167\n",
      "Epoch 80/228\n",
      "17/17 [==============================] - 0s 8ms/step - loss: 0.2997 - accuracy: 0.8796 - val_loss: 0.5825 - val_accuracy: 0.8167\n",
      "Epoch 81/228\n",
      "17/17 [==============================] - 0s 7ms/step - loss: 0.2986 - accuracy: 0.8778 - val_loss: 0.5812 - val_accuracy: 0.7833\n",
      "Epoch 82/228\n",
      "17/17 [==============================] - 0s 7ms/step - loss: 0.3278 - accuracy: 0.8722 - val_loss: 0.5487 - val_accuracy: 0.7833\n",
      "Epoch 83/228\n",
      "17/17 [==============================] - 0s 7ms/step - loss: 0.2987 - accuracy: 0.8833 - val_loss: 0.6126 - val_accuracy: 0.7833\n",
      "Epoch 84/228\n",
      "17/17 [==============================] - 0s 7ms/step - loss: 0.2866 - accuracy: 0.8889 - val_loss: 0.5568 - val_accuracy: 0.8000\n",
      "Epoch 85/228\n",
      "17/17 [==============================] - 0s 7ms/step - loss: 0.2736 - accuracy: 0.8963 - val_loss: 0.6006 - val_accuracy: 0.8000\n",
      "Epoch 86/228\n",
      "17/17 [==============================] - 0s 7ms/step - loss: 0.2730 - accuracy: 0.8963 - val_loss: 0.5793 - val_accuracy: 0.8000\n",
      "Epoch 87/228\n",
      "17/17 [==============================] - 0s 7ms/step - loss: 0.2708 - accuracy: 0.8907 - val_loss: 0.6041 - val_accuracy: 0.8167\n",
      "Epoch 88/228\n",
      "17/17 [==============================] - 0s 8ms/step - loss: 0.2912 - accuracy: 0.8852 - val_loss: 0.5191 - val_accuracy: 0.8000\n",
      "Epoch 89/228\n",
      "17/17 [==============================] - 0s 7ms/step - loss: 0.2990 - accuracy: 0.8833 - val_loss: 0.5740 - val_accuracy: 0.7667\n",
      "Epoch 90/228\n",
      "17/17 [==============================] - 0s 8ms/step - loss: 0.2586 - accuracy: 0.9056 - val_loss: 0.6064 - val_accuracy: 0.8000\n",
      "Epoch 91/228\n",
      "17/17 [==============================] - 0s 8ms/step - loss: 0.2732 - accuracy: 0.8852 - val_loss: 0.5830 - val_accuracy: 0.7667\n",
      "Epoch 92/228\n",
      "17/17 [==============================] - 0s 8ms/step - loss: 0.2747 - accuracy: 0.8926 - val_loss: 0.6382 - val_accuracy: 0.7833\n",
      "Epoch 93/228\n",
      "17/17 [==============================] - 0s 7ms/step - loss: 0.2539 - accuracy: 0.8963 - val_loss: 0.6221 - val_accuracy: 0.8000\n",
      "Epoch 94/228\n",
      "17/17 [==============================] - 0s 7ms/step - loss: 0.2408 - accuracy: 0.8944 - val_loss: 0.6248 - val_accuracy: 0.8000\n",
      "Epoch 95/228\n",
      "17/17 [==============================] - 0s 7ms/step - loss: 0.2488 - accuracy: 0.9037 - val_loss: 0.5929 - val_accuracy: 0.8000\n",
      "Epoch 96/228\n",
      "17/17 [==============================] - 0s 7ms/step - loss: 0.2375 - accuracy: 0.9056 - val_loss: 0.6301 - val_accuracy: 0.7833\n",
      "Epoch 97/228\n",
      "17/17 [==============================] - 0s 7ms/step - loss: 0.2461 - accuracy: 0.8981 - val_loss: 0.6350 - val_accuracy: 0.7833\n",
      "Epoch 98/228\n",
      "17/17 [==============================] - 0s 8ms/step - loss: 0.2358 - accuracy: 0.9037 - val_loss: 0.6321 - val_accuracy: 0.8167\n",
      "Epoch 99/228\n",
      "17/17 [==============================] - 0s 7ms/step - loss: 0.2238 - accuracy: 0.9130 - val_loss: 0.6306 - val_accuracy: 0.8000\n",
      "Epoch 100/228\n",
      "17/17 [==============================] - 0s 8ms/step - loss: 0.2367 - accuracy: 0.9056 - val_loss: 0.6462 - val_accuracy: 0.8000\n",
      "Epoch 101/228\n",
      "17/17 [==============================] - 0s 8ms/step - loss: 0.2301 - accuracy: 0.9130 - val_loss: 0.6177 - val_accuracy: 0.7833\n",
      "Epoch 102/228\n",
      "17/17 [==============================] - 0s 7ms/step - loss: 0.2393 - accuracy: 0.9074 - val_loss: 0.6889 - val_accuracy: 0.8000\n",
      "Epoch 103/228\n",
      "17/17 [==============================] - 0s 7ms/step - loss: 0.2434 - accuracy: 0.9000 - val_loss: 0.5989 - val_accuracy: 0.8167\n",
      "Epoch 104/228\n",
      "17/17 [==============================] - 0s 7ms/step - loss: 0.2184 - accuracy: 0.9130 - val_loss: 0.7218 - val_accuracy: 0.8000\n",
      "Epoch 105/228\n",
      "17/17 [==============================] - 0s 7ms/step - loss: 0.2066 - accuracy: 0.9167 - val_loss: 0.6701 - val_accuracy: 0.8167\n",
      "Epoch 106/228\n",
      "17/17 [==============================] - 0s 7ms/step - loss: 0.1997 - accuracy: 0.9167 - val_loss: 0.7373 - val_accuracy: 0.8000\n",
      "Epoch 107/228\n",
      "17/17 [==============================] - 0s 7ms/step - loss: 0.1947 - accuracy: 0.9222 - val_loss: 0.6730 - val_accuracy: 0.8000\n",
      "Epoch 108/228\n",
      "17/17 [==============================] - 0s 7ms/step - loss: 0.1955 - accuracy: 0.9167 - val_loss: 0.7086 - val_accuracy: 0.7833\n",
      "Epoch 109/228\n",
      "17/17 [==============================] - 0s 8ms/step - loss: 0.1937 - accuracy: 0.9259 - val_loss: 0.7114 - val_accuracy: 0.8167\n",
      "Epoch 110/228\n",
      "17/17 [==============================] - 0s 8ms/step - loss: 0.2135 - accuracy: 0.9130 - val_loss: 0.6994 - val_accuracy: 0.7833\n",
      "Epoch 111/228\n",
      "17/17 [==============================] - 0s 8ms/step - loss: 0.2129 - accuracy: 0.9093 - val_loss: 0.7920 - val_accuracy: 0.8000\n",
      "Epoch 112/228\n",
      "17/17 [==============================] - 0s 7ms/step - loss: 0.1872 - accuracy: 0.9259 - val_loss: 0.6369 - val_accuracy: 0.7833\n",
      "Epoch 113/228\n",
      "17/17 [==============================] - 0s 8ms/step - loss: 0.1854 - accuracy: 0.9241 - val_loss: 0.7554 - val_accuracy: 0.8000\n",
      "Epoch 114/228\n",
      "17/17 [==============================] - 0s 7ms/step - loss: 0.1810 - accuracy: 0.9315 - val_loss: 0.7712 - val_accuracy: 0.8000\n",
      "Epoch 115/228\n",
      "17/17 [==============================] - 0s 7ms/step - loss: 0.1717 - accuracy: 0.9333 - val_loss: 0.7539 - val_accuracy: 0.8000\n",
      "Epoch 116/228\n",
      "17/17 [==============================] - 0s 7ms/step - loss: 0.1820 - accuracy: 0.9333 - val_loss: 0.7474 - val_accuracy: 0.7667\n",
      "Epoch 117/228\n",
      "17/17 [==============================] - 0s 7ms/step - loss: 0.1721 - accuracy: 0.9278 - val_loss: 0.8140 - val_accuracy: 0.7667\n",
      "Epoch 118/228\n",
      "17/17 [==============================] - 0s 7ms/step - loss: 0.1774 - accuracy: 0.9278 - val_loss: 0.7392 - val_accuracy: 0.7667\n",
      "Epoch 119/228\n",
      "17/17 [==============================] - 0s 8ms/step - loss: 0.1889 - accuracy: 0.9074 - val_loss: 0.8895 - val_accuracy: 0.7667\n",
      "Epoch 120/228\n",
      "17/17 [==============================] - 0s 8ms/step - loss: 0.1979 - accuracy: 0.9148 - val_loss: 0.8079 - val_accuracy: 0.8000\n",
      "Epoch 121/228\n",
      "17/17 [==============================] - 0s 8ms/step - loss: 0.1837 - accuracy: 0.9130 - val_loss: 0.8488 - val_accuracy: 0.8167\n",
      "Epoch 122/228\n",
      "17/17 [==============================] - 0s 8ms/step - loss: 0.1860 - accuracy: 0.9296 - val_loss: 0.8903 - val_accuracy: 0.8167\n",
      "Epoch 123/228\n",
      "17/17 [==============================] - 0s 8ms/step - loss: 0.1787 - accuracy: 0.9259 - val_loss: 0.7120 - val_accuracy: 0.8000\n",
      "Epoch 124/228\n",
      "17/17 [==============================] - 0s 8ms/step - loss: 0.1535 - accuracy: 0.9352 - val_loss: 0.8590 - val_accuracy: 0.7833\n",
      "Epoch 125/228\n",
      "17/17 [==============================] - 0s 7ms/step - loss: 0.1510 - accuracy: 0.9352 - val_loss: 0.7829 - val_accuracy: 0.8000\n",
      "Epoch 126/228\n",
      "17/17 [==============================] - 0s 7ms/step - loss: 0.1651 - accuracy: 0.9241 - val_loss: 1.0087 - val_accuracy: 0.7167\n",
      "Epoch 127/228\n",
      "17/17 [==============================] - 0s 7ms/step - loss: 0.1657 - accuracy: 0.9222 - val_loss: 0.7141 - val_accuracy: 0.8000\n",
      "Epoch 128/228\n",
      "17/17 [==============================] - 0s 7ms/step - loss: 0.1485 - accuracy: 0.9352 - val_loss: 0.8759 - val_accuracy: 0.8000\n",
      "Epoch 129/228\n",
      "17/17 [==============================] - 0s 8ms/step - loss: 0.1368 - accuracy: 0.9407 - val_loss: 0.8894 - val_accuracy: 0.7667\n",
      "Epoch 130/228\n",
      "17/17 [==============================] - 0s 7ms/step - loss: 0.1477 - accuracy: 0.9259 - val_loss: 0.9248 - val_accuracy: 0.8000\n",
      "Epoch 131/228\n",
      "17/17 [==============================] - 0s 8ms/step - loss: 0.1468 - accuracy: 0.9315 - val_loss: 1.0114 - val_accuracy: 0.7667\n",
      "Epoch 132/228\n",
      "17/17 [==============================] - 0s 7ms/step - loss: 0.1439 - accuracy: 0.9296 - val_loss: 0.9452 - val_accuracy: 0.8000\n",
      "Epoch 133/228\n",
      "17/17 [==============================] - 0s 8ms/step - loss: 0.1486 - accuracy: 0.9296 - val_loss: 0.8742 - val_accuracy: 0.7833\n",
      "Epoch 134/228\n",
      "17/17 [==============================] - 0s 8ms/step - loss: 0.1439 - accuracy: 0.9389 - val_loss: 0.9024 - val_accuracy: 0.7833\n",
      "Epoch 135/228\n",
      "17/17 [==============================] - 0s 7ms/step - loss: 0.1270 - accuracy: 0.9407 - val_loss: 0.9418 - val_accuracy: 0.8167\n",
      "Epoch 136/228\n",
      "17/17 [==============================] - 0s 8ms/step - loss: 0.1342 - accuracy: 0.9352 - val_loss: 0.9048 - val_accuracy: 0.7667\n",
      "Epoch 137/228\n",
      "17/17 [==============================] - 0s 8ms/step - loss: 0.1336 - accuracy: 0.9389 - val_loss: 0.9544 - val_accuracy: 0.8000\n",
      "Epoch 138/228\n",
      "17/17 [==============================] - 0s 8ms/step - loss: 0.1175 - accuracy: 0.9389 - val_loss: 0.9138 - val_accuracy: 0.8167\n",
      "Epoch 139/228\n",
      "17/17 [==============================] - 0s 7ms/step - loss: 0.1192 - accuracy: 0.9370 - val_loss: 1.0153 - val_accuracy: 0.8000\n",
      "Epoch 140/228\n",
      "17/17 [==============================] - 0s 7ms/step - loss: 0.1202 - accuracy: 0.9407 - val_loss: 1.1002 - val_accuracy: 0.8167\n",
      "Epoch 141/228\n",
      "17/17 [==============================] - 0s 7ms/step - loss: 0.1291 - accuracy: 0.9389 - val_loss: 0.9629 - val_accuracy: 0.8000\n",
      "Epoch 142/228\n",
      "17/17 [==============================] - 0s 7ms/step - loss: 0.1183 - accuracy: 0.9407 - val_loss: 0.9516 - val_accuracy: 0.8167\n",
      "Epoch 143/228\n",
      "17/17 [==============================] - 0s 7ms/step - loss: 0.1035 - accuracy: 0.9407 - val_loss: 1.0216 - val_accuracy: 0.8167\n",
      "Epoch 144/228\n",
      "17/17 [==============================] - 0s 7ms/step - loss: 0.1078 - accuracy: 0.9407 - val_loss: 1.0223 - val_accuracy: 0.8167\n",
      "Epoch 145/228\n",
      "17/17 [==============================] - 0s 7ms/step - loss: 0.1027 - accuracy: 0.9426 - val_loss: 0.9866 - val_accuracy: 0.8167\n",
      "Epoch 146/228\n",
      "17/17 [==============================] - 0s 7ms/step - loss: 0.1099 - accuracy: 0.9407 - val_loss: 1.0008 - val_accuracy: 0.8000\n",
      "Epoch 147/228\n",
      "17/17 [==============================] - 0s 7ms/step - loss: 0.1102 - accuracy: 0.9407 - val_loss: 1.2299 - val_accuracy: 0.8000\n",
      "Epoch 148/228\n",
      "17/17 [==============================] - 0s 8ms/step - loss: 0.1416 - accuracy: 0.9222 - val_loss: 1.1932 - val_accuracy: 0.7667\n",
      "Epoch 149/228\n",
      "17/17 [==============================] - 0s 8ms/step - loss: 0.1118 - accuracy: 0.9426 - val_loss: 1.0202 - val_accuracy: 0.8167\n",
      "Epoch 150/228\n",
      "17/17 [==============================] - 0s 7ms/step - loss: 0.1427 - accuracy: 0.9259 - val_loss: 0.7748 - val_accuracy: 0.8167\n",
      "Epoch 151/228\n",
      "17/17 [==============================] - 0s 7ms/step - loss: 0.1505 - accuracy: 0.9315 - val_loss: 1.1214 - val_accuracy: 0.8000\n",
      "Epoch 152/228\n",
      "17/17 [==============================] - 0s 7ms/step - loss: 0.1632 - accuracy: 0.9259 - val_loss: 0.9616 - val_accuracy: 0.8167\n",
      "Epoch 153/228\n",
      "17/17 [==============================] - 0s 8ms/step - loss: 0.1314 - accuracy: 0.9352 - val_loss: 1.1125 - val_accuracy: 0.7833\n",
      "Epoch 154/228\n",
      "17/17 [==============================] - 0s 7ms/step - loss: 0.1265 - accuracy: 0.9370 - val_loss: 0.9653 - val_accuracy: 0.7833\n",
      "Epoch 155/228\n",
      "17/17 [==============================] - 0s 7ms/step - loss: 0.1033 - accuracy: 0.9407 - val_loss: 1.0158 - val_accuracy: 0.8000\n",
      "Epoch 156/228\n",
      "17/17 [==============================] - 0s 7ms/step - loss: 0.0920 - accuracy: 0.9444 - val_loss: 1.0779 - val_accuracy: 0.8000\n",
      "Epoch 157/228\n",
      "17/17 [==============================] - 0s 7ms/step - loss: 0.0941 - accuracy: 0.9426 - val_loss: 1.0597 - val_accuracy: 0.7833\n",
      "Epoch 158/228\n",
      "17/17 [==============================] - 0s 7ms/step - loss: 0.1038 - accuracy: 0.9444 - val_loss: 1.0154 - val_accuracy: 0.8000\n",
      "Epoch 159/228\n",
      "17/17 [==============================] - 0s 7ms/step - loss: 0.0870 - accuracy: 0.9444 - val_loss: 1.0872 - val_accuracy: 0.8167\n",
      "Epoch 160/228\n",
      "17/17 [==============================] - 0s 8ms/step - loss: 0.0911 - accuracy: 0.9444 - val_loss: 1.0537 - val_accuracy: 0.8167\n",
      "Epoch 161/228\n",
      "17/17 [==============================] - 0s 7ms/step - loss: 0.0910 - accuracy: 0.9444 - val_loss: 1.1351 - val_accuracy: 0.8000\n",
      "Epoch 162/228\n",
      "17/17 [==============================] - 0s 7ms/step - loss: 0.0879 - accuracy: 0.9444 - val_loss: 1.0226 - val_accuracy: 0.8167\n",
      "Epoch 163/228\n",
      "17/17 [==============================] - 0s 8ms/step - loss: 0.0964 - accuracy: 0.9426 - val_loss: 1.0495 - val_accuracy: 0.8000\n",
      "Epoch 164/228\n",
      "17/17 [==============================] - 0s 8ms/step - loss: 0.0993 - accuracy: 0.9444 - val_loss: 1.0018 - val_accuracy: 0.7833\n",
      "Epoch 165/228\n",
      "17/17 [==============================] - 0s 7ms/step - loss: 0.0880 - accuracy: 0.9444 - val_loss: 1.0803 - val_accuracy: 0.8000\n",
      "Epoch 166/228\n",
      "17/17 [==============================] - 0s 7ms/step - loss: 0.0887 - accuracy: 0.9444 - val_loss: 1.0713 - val_accuracy: 0.8000\n",
      "Epoch 167/228\n",
      "17/17 [==============================] - 0s 8ms/step - loss: 0.0865 - accuracy: 0.9444 - val_loss: 1.1131 - val_accuracy: 0.7833\n",
      "Epoch 168/228\n",
      "17/17 [==============================] - 0s 8ms/step - loss: 0.0802 - accuracy: 0.9444 - val_loss: 1.2165 - val_accuracy: 0.7833\n",
      "Epoch 169/228\n",
      "17/17 [==============================] - 0s 7ms/step - loss: 0.0853 - accuracy: 0.9444 - val_loss: 1.1636 - val_accuracy: 0.8000\n",
      "Epoch 170/228\n",
      "17/17 [==============================] - 0s 8ms/step - loss: 0.0865 - accuracy: 0.9444 - val_loss: 1.2035 - val_accuracy: 0.8000\n",
      "Epoch 171/228\n",
      "17/17 [==============================] - 0s 8ms/step - loss: 0.0764 - accuracy: 0.9444 - val_loss: 1.2304 - val_accuracy: 0.8167\n",
      "Epoch 172/228\n",
      "17/17 [==============================] - 0s 8ms/step - loss: 0.0791 - accuracy: 0.9444 - val_loss: 1.0957 - val_accuracy: 0.8000\n",
      "Epoch 173/228\n",
      "17/17 [==============================] - 0s 7ms/step - loss: 0.0894 - accuracy: 0.9444 - val_loss: 1.2315 - val_accuracy: 0.8000\n",
      "Epoch 174/228\n",
      "17/17 [==============================] - 0s 7ms/step - loss: 0.0807 - accuracy: 0.9444 - val_loss: 1.1347 - val_accuracy: 0.8167\n",
      "Epoch 175/228\n",
      "17/17 [==============================] - 0s 8ms/step - loss: 0.0757 - accuracy: 0.9444 - val_loss: 1.2001 - val_accuracy: 0.7833\n",
      "Epoch 176/228\n",
      "17/17 [==============================] - 0s 8ms/step - loss: 0.0829 - accuracy: 0.9444 - val_loss: 1.1780 - val_accuracy: 0.8000\n",
      "Epoch 177/228\n",
      "17/17 [==============================] - 0s 7ms/step - loss: 0.0809 - accuracy: 0.9444 - val_loss: 1.2323 - val_accuracy: 0.8167\n",
      "Epoch 178/228\n",
      "17/17 [==============================] - 0s 7ms/step - loss: 0.0896 - accuracy: 0.9444 - val_loss: 1.2065 - val_accuracy: 0.8000\n",
      "Epoch 179/228\n",
      "17/17 [==============================] - 0s 8ms/step - loss: 0.0956 - accuracy: 0.9407 - val_loss: 1.1462 - val_accuracy: 0.7667\n",
      "Epoch 180/228\n",
      "17/17 [==============================] - 0s 8ms/step - loss: 0.0971 - accuracy: 0.9426 - val_loss: 1.2892 - val_accuracy: 0.8333\n",
      "Epoch 181/228\n",
      "17/17 [==============================] - 0s 7ms/step - loss: 0.0746 - accuracy: 0.9444 - val_loss: 1.4165 - val_accuracy: 0.8000\n",
      "Epoch 182/228\n",
      "17/17 [==============================] - 0s 8ms/step - loss: 0.0800 - accuracy: 0.9444 - val_loss: 1.2655 - val_accuracy: 0.8000\n",
      "Epoch 183/228\n",
      "17/17 [==============================] - 0s 7ms/step - loss: 0.0723 - accuracy: 0.9444 - val_loss: 1.2257 - val_accuracy: 0.8000\n",
      "Epoch 184/228\n",
      "17/17 [==============================] - 0s 7ms/step - loss: 0.0709 - accuracy: 0.9444 - val_loss: 1.2568 - val_accuracy: 0.8000\n",
      "Epoch 185/228\n",
      "17/17 [==============================] - 0s 7ms/step - loss: 0.0772 - accuracy: 0.9444 - val_loss: 1.3327 - val_accuracy: 0.8000\n",
      "Epoch 186/228\n",
      "17/17 [==============================] - 0s 8ms/step - loss: 0.0692 - accuracy: 0.9444 - val_loss: 1.3434 - val_accuracy: 0.7833\n",
      "Epoch 187/228\n",
      "17/17 [==============================] - 0s 8ms/step - loss: 0.0729 - accuracy: 0.9444 - val_loss: 1.3960 - val_accuracy: 0.8000\n",
      "Epoch 188/228\n",
      "17/17 [==============================] - 0s 8ms/step - loss: 0.0635 - accuracy: 0.9444 - val_loss: 1.2782 - val_accuracy: 0.7833\n",
      "Epoch 189/228\n",
      "17/17 [==============================] - 0s 7ms/step - loss: 0.0760 - accuracy: 0.9444 - val_loss: 1.2951 - val_accuracy: 0.7833\n",
      "Epoch 190/228\n",
      "17/17 [==============================] - 0s 8ms/step - loss: 0.0672 - accuracy: 0.9444 - val_loss: 1.4716 - val_accuracy: 0.7833\n",
      "Epoch 191/228\n",
      "17/17 [==============================] - 0s 7ms/step - loss: 0.0671 - accuracy: 0.9444 - val_loss: 1.4568 - val_accuracy: 0.7833\n",
      "Epoch 192/228\n",
      "17/17 [==============================] - 0s 7ms/step - loss: 0.0671 - accuracy: 0.9444 - val_loss: 1.4005 - val_accuracy: 0.7833\n",
      "Epoch 193/228\n",
      "17/17 [==============================] - 0s 7ms/step - loss: 0.0649 - accuracy: 0.9444 - val_loss: 1.2966 - val_accuracy: 0.7833\n",
      "Epoch 194/228\n",
      "17/17 [==============================] - 0s 7ms/step - loss: 0.0701 - accuracy: 0.9444 - val_loss: 1.3830 - val_accuracy: 0.7833\n",
      "Epoch 195/228\n",
      "17/17 [==============================] - 0s 8ms/step - loss: 0.0687 - accuracy: 0.9444 - val_loss: 1.3427 - val_accuracy: 0.7833\n",
      "Epoch 196/228\n",
      "17/17 [==============================] - 0s 8ms/step - loss: 0.0610 - accuracy: 0.9444 - val_loss: 1.2447 - val_accuracy: 0.7833\n",
      "Epoch 197/228\n",
      "17/17 [==============================] - 0s 7ms/step - loss: 0.0642 - accuracy: 0.9444 - val_loss: 1.4805 - val_accuracy: 0.7833\n",
      "Epoch 198/228\n",
      "17/17 [==============================] - 0s 8ms/step - loss: 0.0767 - accuracy: 0.9444 - val_loss: 1.3947 - val_accuracy: 0.7833\n",
      "Epoch 199/228\n",
      "17/17 [==============================] - 0s 7ms/step - loss: 0.0628 - accuracy: 0.9444 - val_loss: 1.4961 - val_accuracy: 0.8000\n",
      "Epoch 200/228\n",
      "17/17 [==============================] - 0s 8ms/step - loss: 0.0620 - accuracy: 0.9444 - val_loss: 1.3559 - val_accuracy: 0.7833\n",
      "Epoch 201/228\n",
      "17/17 [==============================] - 0s 8ms/step - loss: 0.0680 - accuracy: 0.9444 - val_loss: 1.3712 - val_accuracy: 0.7833\n",
      "Epoch 202/228\n",
      "17/17 [==============================] - 0s 7ms/step - loss: 0.0631 - accuracy: 0.9444 - val_loss: 1.3888 - val_accuracy: 0.8000\n",
      "Epoch 203/228\n",
      "17/17 [==============================] - 0s 7ms/step - loss: 0.0605 - accuracy: 0.9444 - val_loss: 1.4337 - val_accuracy: 0.8000\n",
      "Epoch 204/228\n",
      "17/17 [==============================] - 0s 7ms/step - loss: 0.0645 - accuracy: 0.9444 - val_loss: 1.5250 - val_accuracy: 0.8333\n",
      "Epoch 205/228\n",
      "17/17 [==============================] - 0s 8ms/step - loss: 0.0608 - accuracy: 0.9444 - val_loss: 1.3922 - val_accuracy: 0.8167\n",
      "Epoch 206/228\n",
      "17/17 [==============================] - 0s 8ms/step - loss: 0.0606 - accuracy: 0.9444 - val_loss: 1.3487 - val_accuracy: 0.7833\n",
      "Epoch 207/228\n",
      "17/17 [==============================] - 0s 7ms/step - loss: 0.0621 - accuracy: 0.9444 - val_loss: 1.3276 - val_accuracy: 0.7833\n",
      "Epoch 208/228\n",
      "17/17 [==============================] - 0s 7ms/step - loss: 0.0591 - accuracy: 0.9444 - val_loss: 1.3977 - val_accuracy: 0.7833\n",
      "Epoch 209/228\n",
      "17/17 [==============================] - 0s 7ms/step - loss: 0.0558 - accuracy: 0.9444 - val_loss: 1.3825 - val_accuracy: 0.7833\n",
      "Epoch 210/228\n",
      "17/17 [==============================] - 0s 7ms/step - loss: 0.0536 - accuracy: 0.9444 - val_loss: 1.3644 - val_accuracy: 0.8000\n",
      "Epoch 211/228\n",
      "17/17 [==============================] - 0s 8ms/step - loss: 0.0531 - accuracy: 0.9444 - val_loss: 1.5127 - val_accuracy: 0.8167\n",
      "Epoch 212/228\n",
      "17/17 [==============================] - 0s 8ms/step - loss: 0.0565 - accuracy: 0.9444 - val_loss: 1.4573 - val_accuracy: 0.7833\n",
      "Epoch 213/228\n",
      "17/17 [==============================] - 0s 7ms/step - loss: 0.0561 - accuracy: 0.9444 - val_loss: 1.3172 - val_accuracy: 0.8000\n",
      "Epoch 214/228\n",
      "17/17 [==============================] - 0s 7ms/step - loss: 0.0562 - accuracy: 0.9444 - val_loss: 1.4833 - val_accuracy: 0.8000\n",
      "Epoch 215/228\n",
      "17/17 [==============================] - 0s 8ms/step - loss: 0.0529 - accuracy: 0.9444 - val_loss: 1.4304 - val_accuracy: 0.8000\n",
      "Epoch 216/228\n",
      "17/17 [==============================] - 0s 8ms/step - loss: 0.0538 - accuracy: 0.9444 - val_loss: 1.5034 - val_accuracy: 0.7833\n",
      "Epoch 217/228\n",
      "17/17 [==============================] - 0s 8ms/step - loss: 0.0508 - accuracy: 0.9444 - val_loss: 1.5314 - val_accuracy: 0.7833\n",
      "Epoch 218/228\n",
      "17/17 [==============================] - 0s 7ms/step - loss: 0.0507 - accuracy: 0.9444 - val_loss: 1.4973 - val_accuracy: 0.8167\n",
      "Epoch 219/228\n",
      "17/17 [==============================] - 0s 7ms/step - loss: 0.0539 - accuracy: 0.9444 - val_loss: 1.4105 - val_accuracy: 0.7833\n",
      "Epoch 220/228\n",
      "17/17 [==============================] - 0s 8ms/step - loss: 0.0523 - accuracy: 0.9444 - val_loss: 1.4888 - val_accuracy: 0.7833\n",
      "Epoch 221/228\n",
      "17/17 [==============================] - 0s 8ms/step - loss: 0.0478 - accuracy: 0.9444 - val_loss: 1.4609 - val_accuracy: 0.7833\n",
      "Epoch 222/228\n",
      "17/17 [==============================] - 0s 8ms/step - loss: 0.0481 - accuracy: 0.9444 - val_loss: 1.4488 - val_accuracy: 0.7833\n",
      "Epoch 223/228\n",
      "17/17 [==============================] - 0s 8ms/step - loss: 0.0522 - accuracy: 0.9444 - val_loss: 1.6525 - val_accuracy: 0.8000\n",
      "Epoch 224/228\n",
      "17/17 [==============================] - 0s 8ms/step - loss: 0.0544 - accuracy: 0.9444 - val_loss: 1.6723 - val_accuracy: 0.8000\n",
      "Epoch 225/228\n",
      "17/17 [==============================] - 0s 7ms/step - loss: 0.0503 - accuracy: 0.9833 - val_loss: 1.5207 - val_accuracy: 0.7833\n",
      "Epoch 226/228\n",
      "17/17 [==============================] - 0s 8ms/step - loss: 0.0541 - accuracy: 0.9852 - val_loss: 1.4951 - val_accuracy: 0.8000\n",
      "Epoch 227/228\n",
      "17/17 [==============================] - 0s 7ms/step - loss: 0.0535 - accuracy: 0.9889 - val_loss: 1.7475 - val_accuracy: 0.8167\n",
      "Epoch 228/228\n",
      "17/17 [==============================] - 0s 8ms/step - loss: 0.0779 - accuracy: 0.9611 - val_loss: 1.6050 - val_accuracy: 0.8500\n"
     ]
    },
    {
     "data": {
      "image/png": "[encoded data removed]",
      "text/plain": [
       "<Figure size 640x480 with 1 Axes>"
      ]
     },
     "metadata": {},
     "output_type": "display_data"
    },
    {
     "data": {
      "image/png": "[encoded data removed]",
      "text/plain": [
       "<Figure size 640x480 with 1 Axes>"
      ]
     },
     "metadata": {},
     "output_type": "display_data"
    },
    {
     "name": "stdout",
     "output_type": "stream",
     "text": [
      "0.8500000238418579\n",
      "2/2 [==============================] - 0s 5ms/step - loss: 1.6050 - accuracy: 0.8500\n"
     ]
    },
    {
     "data": {
      "text/plain": [
       "[1.604956865310669, 0.8500000238418579]"
      ]
     },
     "execution_count": 29,
     "metadata": {},
     "output_type": "execute_result"
    }
   ],
   "source": [
    "# GRADED CODE: Advanced implementation\n",
    "### Start training ###\n",
    "model = tf.keras.models.Sequential([\n",
    "    tf.keras.layers.Conv2D(16, (4, 4), 2, padding = 'same', activation = 'relu', input_shape = (32, 32, 1)),\n",
    "    tf.keras.layers.MaxPooling2D(2, 2),\n",
    "    tf.keras.layers.Conv2D(16, (3, 3), padding = 'same', activation='relu'),\n",
    "    tf.keras.layers.MaxPooling2D(2, 2),\n",
    "    tf.keras.layers.Flatten(),\n",
    "    tf.keras.layers.Dense(64, activation='relu'),\n",
    "    tf.keras.layers.Dense(16, activation='relu'),\n",
    "    tf.keras.layers.Dense(4, activation='relu'),\n",
    "    tf.keras.layers.Dense(1, activation='sigmoid') \n",
    "])\n",
    "model.summary()\n",
    "model.compile(optimizer = 'adam', loss='binary_crossentropy', metrics = ['accuracy'])\n",
    "history = model.fit(X_train, y_train, epochs = 228, validation_data = (X_val, y_val))\n",
    "plt.plot(np.squeeze(history.history['loss']))\n",
    "plt.ylabel('cost')\n",
    "plt.xlabel('iterations')\n",
    "plt.show()\n",
    "plt.plot(np.squeeze(history.history['val_accuracy']))\n",
    "plt.ylabel('accuracy')\n",
    "plt.xlabel('iterations')\n",
    "plt.show()\n",
    "\n",
    "print(np.max(history.history['val_accuracy']))\n",
    "model.evaluate(X_val, y_val)"
   ]
  },
  {
   "cell_type": "code",
   "execution_count": 30,
   "metadata": {
    "id": "pObMJ67hk-Ov"
   },
   "outputs": [
    {
     "name": "stdout",
     "output_type": "stream",
     "text": [
      "2/2 [==============================] - 0s 4ms/step\n"
     ]
    }
   ],
   "source": [
    "pred_test = model.predict(X_test)\n",
    "pred_test = np.argmax(pred_test, axis = 1)\n",
    "output[\"advanced_pred_test\"] = pred_test"
   ]
  },
  {
   "cell_type": "code",
   "execution_count": 31,
   "metadata": {},
   "outputs": [],
   "source": [
    "import winsound\n",
    "frequency = 2500  # Set Frequency To 2500 Hertz\n",
    "duration = 1000  # Set Duration To 1000 ms == 1 second\n",
    "winsound.Beep(frequency, duration)"
   ]
  },
  {
   "attachments": {},
   "cell_type": "markdown",
   "metadata": {},
   "source": [
    "# 9. Comparison Experiment\n",
    "Under 20 epochs, using identical linear layering between all three and identical convolutional layering for the two CNN models, we can compare the run time and the result of the models."
   ]
  },
  {
   "cell_type": "code",
   "execution_count": 45,
   "metadata": {},
   "outputs": [],
   "source": [
    "PATH = \"Training_data\"  #path to your training image\n",
    "file_dir = os.listdir(PATH) #read the images from the directory\n",
    "file_dir.sort() #Make sure the images are loaded in order\n",
    "X_train = np.array([])\n",
    "\n",
    "# Prepare X_train\n",
    "# The shape of X_train will be (number of examples, height of image, width of image, channel of image)\n",
    "# GRADED CODE: Binary classification (Data preprocessing)\n",
    "# hint: use imread(PATH, IMREAD_GRAYSCALE) to load image\n",
    "### START CODE HERE ### (≈ 9 line)\n",
    "X_train = np.array([imread(PATH + \"/\" + i, IMREAD_GRAYSCALE) for i in file_dir])[: , : , : , np.newaxis] / 255\n",
    "### END CODE HERE ###"
   ]
  },
  {
   "cell_type": "code",
   "execution_count": 46,
   "metadata": {},
   "outputs": [],
   "source": [
    "data = read_csv(\"Training_label.csv\")\n",
    "\n",
    "y_train = []\n",
    "# Prepare y_train\n",
    "# The shape of y_train will be (number of examples, 1), we will transpose y_train latter.\n",
    "# GRADED CODE: Binary classification (Data preprocessing)\n",
    "### START CODE HERE ### (≈ 2 line)\n",
    "y_train = np.array(data['label'])[: , np.newaxis]\n",
    "### END CODE HERE ###"
   ]
  },
  {
   "cell_type": "code",
   "execution_count": 47,
   "metadata": {},
   "outputs": [],
   "source": [
    "PATH = \"Testing_data\"  #path to your testing image\n",
    "file_dir = os.listdir(PATH)\n",
    "file_dir.sort()\n",
    "X_test = np.array([])\n",
    "\n",
    "# Prepare X_testi\n",
    "# The shape of X_teset will be (number of examples, height of image, width of image, channel of image)\n",
    "# GRADED CODE: Binary classification (Data preprocessing)\n",
    "### START CODE HERE ### (≈ 9 line)\n",
    "X_test = np.array([imread(PATH + \"/\" + i, IMREAD_GRAYSCALE) for i in file_dir])[: , : , : , np.newaxis] / 255\n",
    "### END CODE HERE ###"
   ]
  },
  {
   "cell_type": "code",
   "execution_count": 48,
   "metadata": {},
   "outputs": [],
   "source": [
    "X_train, X_val, y_train, y_val = train_test_split(X_train, y_train, test_size=0.1)\n",
    "\n",
    "y_train = y_train.T #transpose y_train\n",
    "y_val = y_val.T"
   ]
  },
  {
   "cell_type": "code",
   "execution_count": 49,
   "metadata": {},
   "outputs": [
    {
     "name": "stdout",
     "output_type": "stream",
     "text": [
      "epoch:  0\n",
      "Cost after iteration 0: 0.733855\n",
      "Accuracy after iteration 0: 0.566667\n",
      "epoch:  1\n",
      "Cost after iteration 1: 0.707034\n",
      "Accuracy after iteration 1: 0.566667\n",
      "epoch:  2\n",
      "Cost after iteration 2: 0.714613\n",
      "Accuracy after iteration 2: 0.566667\n",
      "epoch:  3\n",
      "Cost after iteration 3: 0.706557\n",
      "Accuracy after iteration 3: 0.566667\n",
      "epoch:  4\n",
      "Cost after iteration 4: 0.640790\n",
      "Accuracy after iteration 4: 0.566667\n",
      "epoch:  5\n",
      "Cost after iteration 5: 0.703915\n",
      "Accuracy after iteration 5: 0.566667\n",
      "epoch:  6\n",
      "Cost after iteration 6: 0.698213\n",
      "Accuracy after iteration 6: 0.566667\n",
      "epoch:  7\n",
      "Cost after iteration 7: 0.711327\n",
      "Accuracy after iteration 7: 0.566667\n",
      "epoch:  8\n",
      "Cost after iteration 8: 0.696425\n",
      "Accuracy after iteration 8: 0.566667\n",
      "epoch:  9\n",
      "Cost after iteration 9: 0.743642\n",
      "Accuracy after iteration 9: 0.566667\n",
      "epoch:  10\n",
      "Cost after iteration 10: 0.639436\n",
      "Accuracy after iteration 10: 0.566667\n",
      "epoch:  11\n",
      "Cost after iteration 11: 0.712915\n",
      "Accuracy after iteration 11: 0.566667\n",
      "epoch:  12\n",
      "Cost after iteration 12: 0.726985\n",
      "Accuracy after iteration 12: 0.566667\n",
      "epoch:  13\n",
      "Cost after iteration 13: 0.722681\n",
      "Accuracy after iteration 13: 0.566667\n",
      "epoch:  14\n",
      "Cost after iteration 14: 0.750541\n",
      "Accuracy after iteration 14: 0.566667\n",
      "epoch:  15\n",
      "Cost after iteration 15: 0.777627\n",
      "Accuracy after iteration 15: 0.566667\n",
      "epoch:  16\n",
      "Cost after iteration 16: 0.694447\n",
      "Accuracy after iteration 16: 0.566667\n",
      "epoch:  17\n",
      "Cost after iteration 17: 0.630804\n",
      "Accuracy after iteration 17: 0.566667\n",
      "epoch:  18\n",
      "Cost after iteration 18: 0.678712\n",
      "Accuracy after iteration 18: 0.566667\n",
      "epoch:  19\n",
      "Cost after iteration 19: 0.749950\n",
      "Accuracy after iteration 19: 0.566667\n"
     ]
    },
    {
     "data": {
      "image/png": "[encoded data removed]",
      "text/plain": [
       "<Figure size 640x480 with 1 Axes>"
      ]
     },
     "metadata": {},
     "output_type": "display_data"
    },
    {
     "data": {
      "image/png": "[encoded data removed]",
      "text/plain": [
       "<Figure size 640x480 with 1 Axes>"
      ]
     },
     "metadata": {},
     "output_type": "display_data"
    }
   ],
   "source": [
    "# GRADED CODE: Binary classification\n",
    "### START CODE HERE ###\n",
    "learning_rate = 0.001\n",
    "num_iterations = 20\n",
    "batch_size = 16\n",
    "print_cost = True\n",
    "classes = 2\n",
    "costs = []   # keep track of cost\n",
    "accs = []\n",
    "\n",
    "# build the model\n",
    "model=Model()\n",
    "model.add(Flatten())\n",
    "model.add(Dense(1024, 32))\n",
    "model.add(Activation(\"relu\"))\n",
    "model.add(Dense(32, 1))\n",
    "model.add(Activation(\"sigmoid\"))\n",
    "\n",
    "# Loop (gradient descent)\n",
    "for i in range(0, num_iterations):\n",
    "    if i == 15:\n",
    "        learning_rate = 3e-5\n",
    "    print(\"epoch: \",i)\n",
    "    mini_batches = random_mini_batches(X_train, y_train, batch_size)\n",
    "    for batch in mini_batches:\n",
    "        x_batch, y_batch = batch\n",
    "\n",
    "        # forward\n",
    "        AL = model.forward(x_batch)\n",
    "\n",
    "        # compute cost\n",
    "        if classes == 2:\n",
    "            cost = compute_BCE_cost(AL, np.transpose(y_batch))\n",
    "        else:\n",
    "            cost = compute_CCE_cost(AL, np.transpose(y_batch))\n",
    "\n",
    "        # backward\n",
    "        dA_prev = model.backward(AL = AL, Y = y_batch)\n",
    "\n",
    "        # update\n",
    "        model.update(learning_rate)\n",
    "    acc = np.sum(predict(X_val, None, model, 2) == y_val) / y_val.shape[1]\n",
    "    print (\"Cost after iteration %i: %f\" %(i, cost))\n",
    "    costs.append(cost)\n",
    "    print(\"Accuracy after iteration %i: %f\" %(i, acc))\n",
    "    accs.append(acc)\n",
    "### END CODE HERE ###\n",
    "            \n",
    "# plot the cost\n",
    "plt.plot(np.squeeze(costs))\n",
    "plt.ylabel('cost')\n",
    "plt.xlabel('iterations')\n",
    "plt.title(\"Learning rate =\" + str(learning_rate))\n",
    "plt.show()\n",
    "\n",
    "plt.plot(np.squeeze(accs))\n",
    "plt.ylabel('accuracy')\n",
    "plt.xlabel('iterations')\n",
    "plt.title(\"Learning rate =\" + str(learning_rate))\n",
    "plt.show()\n"
   ]
  },
  {
   "cell_type": "code",
   "execution_count": 50,
   "metadata": {},
   "outputs": [
    {
     "name": "stdout",
     "output_type": "stream",
     "text": [
      "Accuracy: 0.49259259259259264\n",
      "Accuracy: 0.5666666666666668\n"
     ]
    },
    {
     "data": {
      "text/plain": [
       "array([[1., 1., 1., 1., 1., 1., 1., 1., 1., 1., 1., 1., 1., 1., 1., 1.,\n",
       "        1., 1., 1., 1., 1., 1., 1., 1., 1., 1., 1., 1., 1., 1., 1., 1.,\n",
       "        1., 1., 1., 1., 1., 1., 1., 1., 1., 1., 1., 1., 1., 1., 1., 1.,\n",
       "        1., 1., 1., 1., 1., 1., 1., 1., 1., 1., 1., 1.]])"
      ]
     },
     "execution_count": 50,
     "metadata": {},
     "output_type": "execute_result"
    }
   ],
   "source": [
    "predict(X_train, y_train, model, 2)\n",
    "predict(X_val, y_val, model, 2)"
   ]
  },
  {
   "cell_type": "code",
   "execution_count": 51,
   "metadata": {},
   "outputs": [
    {
     "name": "stdout",
     "output_type": "stream",
     "text": [
      "epoch:  0\n",
      "Cost after iteration 0: 0.812475\n",
      "Accuracy after iteration 0: 0.550000\n",
      "epoch:  1\n",
      "Cost after iteration 1: 0.723847\n",
      "Accuracy after iteration 1: 0.416667\n",
      "epoch:  2\n",
      "Cost after iteration 2: 0.697566\n",
      "Accuracy after iteration 2: 0.383333\n",
      "epoch:  3\n",
      "Cost after iteration 3: 0.757282\n",
      "Accuracy after iteration 3: 0.416667\n",
      "epoch:  4\n",
      "Cost after iteration 4: 0.689635\n",
      "Accuracy after iteration 4: 0.433333\n",
      "epoch:  5\n",
      "Cost after iteration 5: 0.705859\n",
      "Accuracy after iteration 5: 0.466667\n",
      "epoch:  6\n",
      "Cost after iteration 6: 0.689835\n",
      "Accuracy after iteration 6: 0.416667\n",
      "epoch:  7\n",
      "Cost after iteration 7: 0.704512\n",
      "Accuracy after iteration 7: 0.450000\n",
      "epoch:  8\n",
      "Cost after iteration 8: 0.703413\n",
      "Accuracy after iteration 8: 0.433333\n",
      "epoch:  9\n",
      "Cost after iteration 9: 0.688373\n",
      "Accuracy after iteration 9: 0.433333\n",
      "epoch:  10\n",
      "Cost after iteration 10: 0.684779\n",
      "Accuracy after iteration 10: 0.416667\n",
      "epoch:  11\n",
      "Cost after iteration 11: 0.702188\n",
      "Accuracy after iteration 11: 0.450000\n",
      "epoch:  12\n",
      "Cost after iteration 12: 0.698504\n",
      "Accuracy after iteration 12: 0.433333\n",
      "epoch:  13\n",
      "Cost after iteration 13: 0.695939\n",
      "Accuracy after iteration 13: 0.483333\n",
      "epoch:  14\n",
      "Cost after iteration 14: 0.697126\n",
      "Accuracy after iteration 14: 0.433333\n",
      "epoch:  15\n",
      "Cost after iteration 15: 0.694532\n",
      "Accuracy after iteration 15: 0.450000\n",
      "epoch:  16\n",
      "Cost after iteration 16: 0.688439\n",
      "Accuracy after iteration 16: 0.450000\n",
      "epoch:  17\n",
      "Cost after iteration 17: 0.696938\n",
      "Accuracy after iteration 17: 0.450000\n",
      "epoch:  18\n",
      "Cost after iteration 18: 0.703007\n",
      "Accuracy after iteration 18: 0.450000\n",
      "epoch:  19\n",
      "Cost after iteration 19: 0.691302\n",
      "Accuracy after iteration 19: 0.450000\n"
     ]
    },
    {
     "data": {
      "image/png": "[encoded data removed]",
      "text/plain": [
       "<Figure size 640x480 with 1 Axes>"
      ]
     },
     "metadata": {},
     "output_type": "display_data"
    },
    {
     "data": {
      "image/png": "[encoded data removed]",
      "text/plain": [
       "<Figure size 640x480 with 1 Axes>"
      ]
     },
     "metadata": {},
     "output_type": "display_data"
    }
   ],
   "source": [
    "# GRADED CODE: Binary classification\n",
    "### START CODE HERE ###\n",
    "learning_rate = 0.001\n",
    "num_iterations = 20\n",
    "batch_size = 16\n",
    "print_cost = True\n",
    "classes = 2\n",
    "costs = []   # keep track of cost\n",
    "accs = []\n",
    "\n",
    "# build the model\n",
    "model=Model()\n",
    "model.add(Conv(filter_size=3, input_channel=1, output_channel=16, pad=0, stride=2))\n",
    "model.add(Activation(\"relu\"))\n",
    "model.add(MaxPool(filter_size=2, stride=2))\n",
    "model.add(Conv(filter_size=3, input_channel=16, output_channel=16, pad=0, stride=2))\n",
    "model.add(Activation(\"relu\"))\n",
    "\n",
    "model.add(Flatten())\n",
    "model.add(Dense(144, 32))\n",
    "model.add(Activation(\"relu\"))\n",
    "model.add(Dense(32, 1))\n",
    "model.add(Activation(\"sigmoid\"))\n",
    "\n",
    "# Loop (gradient descent)\n",
    "for i in range(0, num_iterations):\n",
    "    if i == 15:\n",
    "        learning_rate = 3e-5\n",
    "    print(\"epoch: \",i)\n",
    "    mini_batches = random_mini_batches(X_train, y_train, batch_size)\n",
    "    for batch in mini_batches:\n",
    "        x_batch, y_batch = batch\n",
    "\n",
    "        # forward\n",
    "        AL = model.forward(x_batch)\n",
    "\n",
    "        # compute cost\n",
    "        if classes == 2:\n",
    "            cost = compute_BCE_cost(AL, np.transpose(y_batch))\n",
    "        else:\n",
    "            cost = compute_CCE_cost(AL, np.transpose(y_batch))\n",
    "\n",
    "        # backward\n",
    "        dA_prev = model.backward(AL = AL, Y = y_batch)\n",
    "\n",
    "        # update\n",
    "        model.update(learning_rate)\n",
    "    acc = np.sum(predict(X_val, None, model, 2) == y_val) / y_val.shape[1]\n",
    "    print (\"Cost after iteration %i: %f\" %(i, cost))\n",
    "    costs.append(cost)\n",
    "    print(\"Accuracy after iteration %i: %f\" %(i, acc))\n",
    "    accs.append(acc)\n",
    "### END CODE HERE ###\n",
    "            \n",
    "# plot the cost\n",
    "plt.plot(np.squeeze(costs))\n",
    "plt.ylabel('cost')\n",
    "plt.xlabel('iterations')\n",
    "plt.title(\"Learning rate =\" + str(learning_rate))\n",
    "plt.show()\n",
    "\n",
    "plt.plot(np.squeeze(accs))\n",
    "plt.ylabel('accuracy')\n",
    "plt.xlabel('iterations')\n",
    "plt.title(\"Learning rate =\" + str(learning_rate))\n",
    "plt.show()\n"
   ]
  },
  {
   "cell_type": "code",
   "execution_count": 52,
   "metadata": {},
   "outputs": [
    {
     "name": "stdout",
     "output_type": "stream",
     "text": [
      "Accuracy: 0.4833333333333333\n",
      "Accuracy: 0.45\n"
     ]
    },
    {
     "data": {
      "text/plain": [
       "array([[0., 0., 0., 0., 1., 0., 0., 1., 0., 0., 0., 1., 0., 1., 1., 0.,\n",
       "        0., 0., 1., 0., 0., 1., 0., 0., 0., 1., 1., 0., 0., 1., 0., 0.,\n",
       "        0., 0., 0., 0., 1., 1., 0., 0., 0., 0., 0., 0., 0., 0., 0., 0.,\n",
       "        1., 0., 0., 1., 0., 1., 0., 0., 0., 1., 0., 1.]])"
      ]
     },
     "execution_count": 52,
     "metadata": {},
     "output_type": "execute_result"
    }
   ],
   "source": [
    "predict(X_train, y_train, model, 2)\n",
    "predict(X_val, y_val, model, 2)"
   ]
  },
  {
   "cell_type": "code",
   "execution_count": 53,
   "metadata": {},
   "outputs": [
    {
     "name": "stdout",
     "output_type": "stream",
     "text": [
      "(540, 1)\n",
      "(60, 1)\n"
     ]
    }
   ],
   "source": [
    "if y_train.shape[0] == 1:\n",
    "    y_train = np.transpose(y_train)\n",
    "    if validation:\n",
    "        y_val = np.transpose(y_val)\n",
    "print(y_train.shape)\n",
    "print(y_val.shape)"
   ]
  },
  {
   "cell_type": "code",
   "execution_count": 54,
   "metadata": {},
   "outputs": [
    {
     "name": "stdout",
     "output_type": "stream",
     "text": [
      "Model: \"sequential_2\"\n",
      "_________________________________________________________________\n",
      " Layer (type)                Output Shape              Param #   \n",
      "=================================================================\n",
      " conv2d_4 (Conv2D)           (None, 15, 15, 16)        160       \n",
      "                                                                 \n",
      " max_pooling2d_3 (MaxPooling  (None, 7, 7, 16)         0         \n",
      " 2D)                                                             \n",
      "                                                                 \n",
      " conv2d_5 (Conv2D)           (None, 3, 3, 16)          2320      \n",
      "                                                                 \n",
      " flatten_2 (Flatten)         (None, 144)               0         \n",
      "                                                                 \n",
      " dense_6 (Dense)             (None, 32)                4640      \n",
      "                                                                 \n",
      " dense_7 (Dense)             (None, 1)                 33        \n",
      "                                                                 \n",
      "=================================================================\n",
      "Total params: 7,153\n",
      "Trainable params: 7,153\n",
      "Non-trainable params: 0\n",
      "_________________________________________________________________\n",
      "Epoch 1/20\n",
      "17/17 [==============================] - 1s 14ms/step - loss: 0.6920 - accuracy: 0.5333 - val_loss: 0.6902 - val_accuracy: 0.5833\n",
      "Epoch 2/20\n",
      "17/17 [==============================] - 0s 6ms/step - loss: 0.6851 - accuracy: 0.5463 - val_loss: 0.6863 - val_accuracy: 0.5667\n",
      "Epoch 3/20\n",
      "17/17 [==============================] - 0s 6ms/step - loss: 0.6779 - accuracy: 0.6111 - val_loss: 0.6907 - val_accuracy: 0.4500\n",
      "Epoch 4/20\n",
      "17/17 [==============================] - 0s 6ms/step - loss: 0.6658 - accuracy: 0.5574 - val_loss: 0.6569 - val_accuracy: 0.6333\n",
      "Epoch 5/20\n",
      "17/17 [==============================] - 0s 6ms/step - loss: 0.6518 - accuracy: 0.6630 - val_loss: 0.6490 - val_accuracy: 0.6833\n",
      "Epoch 6/20\n",
      "17/17 [==============================] - 0s 6ms/step - loss: 0.6170 - accuracy: 0.7481 - val_loss: 0.6065 - val_accuracy: 0.7000\n",
      "Epoch 7/20\n",
      "17/17 [==============================] - 0s 6ms/step - loss: 0.5742 - accuracy: 0.7537 - val_loss: 0.6109 - val_accuracy: 0.6667\n",
      "Epoch 8/20\n",
      "17/17 [==============================] - 0s 6ms/step - loss: 0.5398 - accuracy: 0.7556 - val_loss: 0.5674 - val_accuracy: 0.7333\n",
      "Epoch 9/20\n",
      "17/17 [==============================] - 0s 6ms/step - loss: 0.5276 - accuracy: 0.7426 - val_loss: 0.6182 - val_accuracy: 0.6667\n",
      "Epoch 10/20\n",
      "17/17 [==============================] - 0s 6ms/step - loss: 0.5153 - accuracy: 0.7630 - val_loss: 0.5730 - val_accuracy: 0.7167\n",
      "Epoch 11/20\n",
      "17/17 [==============================] - 0s 7ms/step - loss: 0.5040 - accuracy: 0.7685 - val_loss: 0.5871 - val_accuracy: 0.7000\n",
      "Epoch 12/20\n",
      "17/17 [==============================] - 0s 7ms/step - loss: 0.4935 - accuracy: 0.7630 - val_loss: 0.5635 - val_accuracy: 0.7667\n",
      "Epoch 13/20\n",
      "17/17 [==============================] - 0s 7ms/step - loss: 0.4907 - accuracy: 0.7759 - val_loss: 0.5678 - val_accuracy: 0.7500\n",
      "Epoch 14/20\n",
      "17/17 [==============================] - 0s 6ms/step - loss: 0.4933 - accuracy: 0.7741 - val_loss: 0.5581 - val_accuracy: 0.7667\n",
      "Epoch 15/20\n",
      "17/17 [==============================] - 0s 6ms/step - loss: 0.4936 - accuracy: 0.7667 - val_loss: 0.5581 - val_accuracy: 0.7500\n",
      "Epoch 16/20\n",
      "17/17 [==============================] - 0s 6ms/step - loss: 0.4958 - accuracy: 0.7741 - val_loss: 0.5678 - val_accuracy: 0.7500\n",
      "Epoch 17/20\n",
      "17/17 [==============================] - 0s 6ms/step - loss: 0.4861 - accuracy: 0.7667 - val_loss: 0.5726 - val_accuracy: 0.7500\n",
      "Epoch 18/20\n",
      "17/17 [==============================] - 0s 7ms/step - loss: 0.4848 - accuracy: 0.7778 - val_loss: 0.5835 - val_accuracy: 0.7333\n",
      "Epoch 19/20\n",
      "17/17 [==============================] - 0s 6ms/step - loss: 0.4786 - accuracy: 0.7778 - val_loss: 0.5785 - val_accuracy: 0.7500\n",
      "Epoch 20/20\n",
      "17/17 [==============================] - 0s 6ms/step - loss: 0.4888 - accuracy: 0.7852 - val_loss: 0.5653 - val_accuracy: 0.7500\n"
     ]
    },
    {
     "data": {
      "image/png": "[encoded data removed]",
      "text/plain": [
       "<Figure size 640x480 with 1 Axes>"
      ]
     },
     "metadata": {},
     "output_type": "display_data"
    },
    {
     "data": {
      "image/png": "[encoded data removed]",
      "text/plain": [
       "<Figure size 640x480 with 1 Axes>"
      ]
     },
     "metadata": {},
     "output_type": "display_data"
    },
    {
     "name": "stdout",
     "output_type": "stream",
     "text": [
      "2/2 [==============================] - 0s 7ms/step - loss: 0.5653 - accuracy: 0.7500\n"
     ]
    },
    {
     "data": {
      "text/plain": [
       "[0.5652632117271423, 0.75]"
      ]
     },
     "execution_count": 54,
     "metadata": {},
     "output_type": "execute_result"
    }
   ],
   "source": [
    "# GRADED CODE: Advanced implementation\n",
    "### Start training ###\n",
    "model = tf.keras.models.Sequential([\n",
    "    tf.keras.layers.Conv2D(16, (3, 3), 2, activation = 'relu', input_shape = (32, 32, 1)),\n",
    "    tf.keras.layers.MaxPooling2D(2,2),\n",
    "    tf.keras.layers.Conv2D(16, (3, 3), 2, activation='relu'),\n",
    "    tf.keras.layers.Flatten(),\n",
    "    tf.keras.layers.Dense(32, activation='relu'),\n",
    "    tf.keras.layers.Dense(1, activation='sigmoid') \n",
    "])\n",
    "\n",
    "model.compile(optimizer = 'adam', loss='binary_crossentropy', metrics = ['accuracy'])\n",
    "model.summary()\n",
    "history = model.fit(X_train, y_train, epochs = 20, validation_data = (X_val, y_val))\n",
    "\n",
    "plt.plot(np.squeeze(history.history['loss']))\n",
    "plt.ylabel('cost')\n",
    "plt.xlabel('iterations')\n",
    "plt.show()\n",
    "\n",
    "plt.plot(np.squeeze(history.history['val_accuracy']))\n",
    "plt.ylabel('accuracy')\n",
    "plt.xlabel('iterations')\n",
    "plt.show()\n",
    "\n",
    "model.evaluate(X_val, y_val)"
   ]
  },
  {
   "cell_type": "markdown",
   "metadata": {
    "id": "WXGnS3HQeNUc"
   },
   "source": [
    "# Submit prediction"
   ]
  },
  {
   "cell_type": "code",
   "execution_count": 55,
   "metadata": {
    "id": "twMsmXbQeDL_"
   },
   "outputs": [],
   "source": [
    "# sanity check\n",
    "assert(list(output.keys()) == ['conv_initialization', 'zero_padding', 'conv_single_step', 'conv_forward_1', 'conv_forward_2', 'conv_forward_3', 'conv_update_1', 'conv_update_2', 'maxpool_forward', 'flatten_forward', 'flatten_backward', 'model_1', 'model_2', 'model_3', 'model_4', 'basic_pred_test', 'basic_model_layers', 'basic_model_parameters', 'advanced_pred_test'])"
   ]
  },
  {
   "cell_type": "code",
   "execution_count": 56,
   "metadata": {
    "id": "bCJ0XTO_zE8A"
   },
   "outputs": [],
   "source": [
    "np.save(\"hw4_output.npy\", output)"
   ]
  },
  {
   "cell_type": "code",
   "execution_count": 57,
   "metadata": {
    "id": "wFBFUUEg1to-"
   },
   "outputs": [
    {
     "name": "stdout",
     "output_type": "stream",
     "text": [
      "conv_initialization： <class 'numpy.ndarray'>\n",
      "zero_padding： <class 'numpy.ndarray'>\n",
      "conv_single_step： <class 'numpy.float64'>\n",
      "conv_forward_1： <class 'numpy.float64'>\n",
      "conv_forward_2： <class 'numpy.ndarray'>\n",
      "conv_forward_3： <class 'numpy.ndarray'>\n",
      "conv_update_1： <class 'numpy.ndarray'>\n",
      "conv_update_2： <class 'numpy.ndarray'>\n",
      "maxpool_forward： <class 'numpy.ndarray'>\n",
      "flatten_forward： <class 'numpy.ndarray'>\n",
      "flatten_backward： <class 'numpy.ndarray'>\n",
      "model_1： <class 'numpy.ndarray'>\n",
      "model_2： <class 'numpy.ndarray'>\n",
      "model_3： <class 'numpy.ndarray'>\n",
      "model_4： <class 'numpy.ndarray'>\n",
      "basic_pred_test： <class 'numpy.ndarray'>\n",
      "basic_model_layers： <class 'list'>\n",
      "basic_model_parameters： <class 'list'>\n",
      "advanced_pred_test： <class 'numpy.ndarray'>\n"
     ]
    }
   ],
   "source": [
    "# sanity check\n",
    "submit = np.load(\"hw4_output.npy\", allow_pickle=True).item()\n",
    "for key, value in submit.items():\n",
    "    print(str(key) + \"： \" + str(type(value)))"
   ]
  },
  {
   "cell_type": "markdown",
   "metadata": {
    "id": "MBkBtZHxIh8Z"
   },
   "source": [
    "Expected output:<br>\n",
    "<small>\n",
    "conv_initialization： <class 'numpy.ndarray'> <br>\n",
    "zero_padding： <class 'numpy.ndarray'> <br>\n",
    "conv_single_step： <class 'numpy.float64'> <br>\n",
    "conv_forward_1： <class 'numpy.float64'> <br>\n",
    "conv_forward_2： <class 'numpy.ndarray'> <br>\n",
    "conv_forward_3： <class 'numpy.ndarray'> <br>\n",
    "conv_update_1： <class 'numpy.ndarray'> <br>\n",
    "conv_update_2： <class 'numpy.ndarray'> <br>\n",
    "maxpool_forward： <class 'numpy.ndarray'> <br>\n",
    "flatten_forward： <class 'numpy.ndarray'> <br>\n",
    "flatten_backward： <class 'numpy.ndarray'> <br>\n",
    "model_1： <class 'numpy.ndarray'> <br>\n",
    "model_2： <class 'numpy.ndarray'> <br>\n",
    "model_3： <class 'numpy.ndarray'> <br>\n",
    "model_4： <class 'numpy.ndarray'> <br>\n",
    "basic_pred_test： <class 'numpy.ndarray'> <br>\n",
    "basic_model_layers： <class 'list'> <br>\n",
    "basic_model_parameters： <class 'list'> <br>\n",
    "advanced_pred_test： <class 'numpy.ndarray'> <br>\n",
    "</small>"
   ]
  }
 ],
 "metadata": {
  "colab": {
   "collapsed_sections": [
    "764-uaZwLGNL",
    "bbGLz2F_ReRr",
    "YXSF-PhOxauK",
    "5Haf0l4nau3y",
    "36my0zWnlv3K",
    "K2X2fb7aoJTg",
    "qdK9_gnZAjYD"
   ],
   "provenance": []
  },
  "kernelspec": {
   "display_name": "venv",
   "language": "python",
   "name": "venv"
  },
  "language_info": {
   "codemirror_mode": {
    "name": "ipython",
    "version": 3
   },
   "file_extension": ".py",
   "mimetype": "text/x-python",
   "name": "python",
   "nbconvert_exporter": "python",
   "pygments_lexer": "ipython3",
   "version": "3.10.7"
  }
 },
 "nbformat": 4,
 "nbformat_minor": 1
}
